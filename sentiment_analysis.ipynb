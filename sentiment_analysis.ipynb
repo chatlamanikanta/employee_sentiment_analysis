{
 "cells": [
  {
   "cell_type": "markdown",
   "id": "13e11110-bb09-42a0-8dbb-4cbda4f3f61b",
   "metadata": {},
   "source": [
    "### Import the necessary libraries"
   ]
  },
  {
   "cell_type": "code",
   "execution_count": 3,
   "id": "a218651b-789c-40c3-b5ce-f041673f3430",
   "metadata": {},
   "outputs": [],
   "source": [
    "import pandas as pd\n",
    "import numpy as np\n",
    "import matplotlib.pyplot as plt"
   ]
  },
  {
   "cell_type": "code",
   "execution_count": 4,
   "id": "cacccb23-eb8f-47c9-b04a-2dc3d73e43c7",
   "metadata": {},
   "outputs": [
    {
     "name": "stdout",
     "output_type": "stream",
     "text": [
      "(2191, 4)\n"
     ]
    },
    {
     "data": {
      "text/html": [
       "<div>\n",
       "<style scoped>\n",
       "    .dataframe tbody tr th:only-of-type {\n",
       "        vertical-align: middle;\n",
       "    }\n",
       "\n",
       "    .dataframe tbody tr th {\n",
       "        vertical-align: top;\n",
       "    }\n",
       "\n",
       "    .dataframe thead th {\n",
       "        text-align: right;\n",
       "    }\n",
       "</style>\n",
       "<table border=\"1\" class=\"dataframe\">\n",
       "  <thead>\n",
       "    <tr style=\"text-align: right;\">\n",
       "      <th></th>\n",
       "      <th>Subject</th>\n",
       "      <th>body</th>\n",
       "      <th>date</th>\n",
       "      <th>from</th>\n",
       "    </tr>\n",
       "  </thead>\n",
       "  <tbody>\n",
       "    <tr>\n",
       "      <th>0</th>\n",
       "      <td>EnronOptions Update!</td>\n",
       "      <td>EnronOptions Announcement\\n\\n\\nWe have updated...</td>\n",
       "      <td>5/10/2010</td>\n",
       "      <td>sally.beck@enron.com</td>\n",
       "    </tr>\n",
       "    <tr>\n",
       "      <th>1</th>\n",
       "      <td>(No Subject)</td>\n",
       "      <td>Marc,\\n\\nUnfortunately, today is not going to ...</td>\n",
       "      <td>7/29/2010</td>\n",
       "      <td>eric.bass@enron.com</td>\n",
       "    </tr>\n",
       "    <tr>\n",
       "      <th>2</th>\n",
       "      <td>Phone Screen  Interview - Shannon L. Burnham</td>\n",
       "      <td>When: Wednesday, June 06, 2001 10:00 AM-11:00 ...</td>\n",
       "      <td>7/25/2011</td>\n",
       "      <td>sally.beck@enron.com</td>\n",
       "    </tr>\n",
       "    <tr>\n",
       "      <th>3</th>\n",
       "      <td>RE: My new work email</td>\n",
       "      <td>we were thinking papasitos (we can meet somewh...</td>\n",
       "      <td>3/25/2010</td>\n",
       "      <td>johnny.palmer@enron.com</td>\n",
       "    </tr>\n",
       "    <tr>\n",
       "      <th>4</th>\n",
       "      <td>Bet</td>\n",
       "      <td>Since you never gave me the $20 for the last t...</td>\n",
       "      <td>5/21/2011</td>\n",
       "      <td>lydia.delgado@enron.com</td>\n",
       "    </tr>\n",
       "  </tbody>\n",
       "</table>\n",
       "</div>"
      ],
      "text/plain": [
       "                                        Subject  \\\n",
       "0                          EnronOptions Update!   \n",
       "1                                  (No Subject)   \n",
       "2  Phone Screen  Interview - Shannon L. Burnham   \n",
       "3                         RE: My new work email   \n",
       "4                                           Bet   \n",
       "\n",
       "                                                body       date  \\\n",
       "0  EnronOptions Announcement\\n\\n\\nWe have updated...  5/10/2010   \n",
       "1  Marc,\\n\\nUnfortunately, today is not going to ...  7/29/2010   \n",
       "2  When: Wednesday, June 06, 2001 10:00 AM-11:00 ...  7/25/2011   \n",
       "3  we were thinking papasitos (we can meet somewh...  3/25/2010   \n",
       "4  Since you never gave me the $20 for the last t...  5/21/2011   \n",
       "\n",
       "                      from  \n",
       "0     sally.beck@enron.com  \n",
       "1      eric.bass@enron.com  \n",
       "2     sally.beck@enron.com  \n",
       "3  johnny.palmer@enron.com  \n",
       "4  lydia.delgado@enron.com  "
      ]
     },
     "execution_count": 4,
     "metadata": {},
     "output_type": "execute_result"
    }
   ],
   "source": [
    "df = pd.read_csv(\"test(in).csv\")\n",
    "print(df.shape)\n",
    "\n",
    "df.head(5)"
   ]
  },
  {
   "cell_type": "markdown",
   "id": "5cb00b4b-8c28-4618-93cb-e9e09eac2f0b",
   "metadata": {},
   "source": [
    "### Adding Emp_id column which is same as index"
   ]
  },
  {
   "cell_type": "code",
   "execution_count": 5,
   "id": "b334146d-c5ba-42a7-aeb0-a3d1ed8c6581",
   "metadata": {},
   "outputs": [],
   "source": [
    "df = df.reset_index().rename(columns={'index' : 'emp_id'})"
   ]
  },
  {
   "cell_type": "code",
   "execution_count": 6,
   "id": "9b03c25a-c874-4125-87be-1f7be9c1808c",
   "metadata": {},
   "outputs": [
    {
     "data": {
      "text/html": [
       "<div>\n",
       "<style scoped>\n",
       "    .dataframe tbody tr th:only-of-type {\n",
       "        vertical-align: middle;\n",
       "    }\n",
       "\n",
       "    .dataframe tbody tr th {\n",
       "        vertical-align: top;\n",
       "    }\n",
       "\n",
       "    .dataframe thead th {\n",
       "        text-align: right;\n",
       "    }\n",
       "</style>\n",
       "<table border=\"1\" class=\"dataframe\">\n",
       "  <thead>\n",
       "    <tr style=\"text-align: right;\">\n",
       "      <th></th>\n",
       "      <th>emp_id</th>\n",
       "    </tr>\n",
       "  </thead>\n",
       "  <tbody>\n",
       "    <tr>\n",
       "      <th>count</th>\n",
       "      <td>2191.000000</td>\n",
       "    </tr>\n",
       "    <tr>\n",
       "      <th>mean</th>\n",
       "      <td>1095.000000</td>\n",
       "    </tr>\n",
       "    <tr>\n",
       "      <th>std</th>\n",
       "      <td>632.631541</td>\n",
       "    </tr>\n",
       "    <tr>\n",
       "      <th>min</th>\n",
       "      <td>0.000000</td>\n",
       "    </tr>\n",
       "    <tr>\n",
       "      <th>25%</th>\n",
       "      <td>547.500000</td>\n",
       "    </tr>\n",
       "    <tr>\n",
       "      <th>50%</th>\n",
       "      <td>1095.000000</td>\n",
       "    </tr>\n",
       "    <tr>\n",
       "      <th>75%</th>\n",
       "      <td>1642.500000</td>\n",
       "    </tr>\n",
       "    <tr>\n",
       "      <th>max</th>\n",
       "      <td>2190.000000</td>\n",
       "    </tr>\n",
       "  </tbody>\n",
       "</table>\n",
       "</div>"
      ],
      "text/plain": [
       "            emp_id\n",
       "count  2191.000000\n",
       "mean   1095.000000\n",
       "std     632.631541\n",
       "min       0.000000\n",
       "25%     547.500000\n",
       "50%    1095.000000\n",
       "75%    1642.500000\n",
       "max    2190.000000"
      ]
     },
     "execution_count": 6,
     "metadata": {},
     "output_type": "execute_result"
    }
   ],
   "source": [
    "df.describe()"
   ]
  },
  {
   "cell_type": "code",
   "execution_count": 7,
   "id": "de2efacf-414b-43dc-b3fa-47538dcf6bb6",
   "metadata": {},
   "outputs": [
    {
     "name": "stdout",
     "output_type": "stream",
     "text": [
      "<class 'pandas.core.frame.DataFrame'>\n",
      "RangeIndex: 2191 entries, 0 to 2190\n",
      "Data columns (total 5 columns):\n",
      " #   Column   Non-Null Count  Dtype \n",
      "---  ------   --------------  ----- \n",
      " 0   emp_id   2191 non-null   int64 \n",
      " 1   Subject  2191 non-null   object\n",
      " 2   body     2191 non-null   object\n",
      " 3   date     2191 non-null   object\n",
      " 4   from     2191 non-null   object\n",
      "dtypes: int64(1), object(4)\n",
      "memory usage: 85.7+ KB\n"
     ]
    }
   ],
   "source": [
    "df.info()"
   ]
  },
  {
   "cell_type": "code",
   "execution_count": 8,
   "id": "d1367823-220b-47db-8bbf-04170fdec9ed",
   "metadata": {},
   "outputs": [
    {
     "data": {
      "text/plain": [
       "emp_id     0\n",
       "Subject    0\n",
       "body       0\n",
       "date       0\n",
       "from       0\n",
       "dtype: int64"
      ]
     },
     "execution_count": 8,
     "metadata": {},
     "output_type": "execute_result"
    }
   ],
   "source": [
    "df.isna().sum()"
   ]
  },
  {
   "cell_type": "markdown",
   "id": "12d4cb73-34cf-4e95-9f83-753c01509187",
   "metadata": {},
   "source": [
    "#### There are no null values in our dataset"
   ]
  },
  {
   "cell_type": "markdown",
   "id": "90b3082e-0875-482a-b697-8f3819db3c44",
   "metadata": {},
   "source": [
    "### Changing the datatype of date column from object to datetime"
   ]
  },
  {
   "cell_type": "code",
   "execution_count": 9,
   "id": "61e91f27-73a4-4ec3-a2a8-d80096cf89be",
   "metadata": {},
   "outputs": [
    {
     "data": {
      "text/plain": [
       "emp_id      int64\n",
       "Subject    object\n",
       "body       object\n",
       "date       object\n",
       "from       object\n",
       "dtype: object"
      ]
     },
     "execution_count": 9,
     "metadata": {},
     "output_type": "execute_result"
    }
   ],
   "source": [
    "df.dtypes"
   ]
  },
  {
   "cell_type": "code",
   "execution_count": 10,
   "id": "a5e56ed1-275c-45a1-9fc3-6f7aef185b9d",
   "metadata": {},
   "outputs": [],
   "source": [
    "df[\"date\"] = pd.to_datetime(df[\"date\"])"
   ]
  },
  {
   "cell_type": "code",
   "execution_count": 11,
   "id": "3cb22512-d7fa-4c82-b196-49651087b539",
   "metadata": {},
   "outputs": [
    {
     "data": {
      "text/plain": [
       "emp_id              int64\n",
       "Subject            object\n",
       "body               object\n",
       "date       datetime64[ns]\n",
       "from               object\n",
       "dtype: object"
      ]
     },
     "execution_count": 11,
     "metadata": {},
     "output_type": "execute_result"
    }
   ],
   "source": [
    "df.dtypes"
   ]
  },
  {
   "cell_type": "markdown",
   "id": "666b3dd5-dc3d-4d67-ac14-fe0e1a33cb03",
   "metadata": {},
   "source": [
    "### Installing Natural Language Tool Kit (NLTK)"
   ]
  },
  {
   "cell_type": "code",
   "execution_count": 12,
   "id": "14d9023f-4843-458b-b423-73dca2452e8d",
   "metadata": {},
   "outputs": [
    {
     "name": "stdout",
     "output_type": "stream",
     "text": [
      "Requirement already satisfied: nltk in c:\\users\\chatla manikanta\\appdata\\roaming\\python\\python312\\site-packages (3.9.2)\n",
      "Requirement already satisfied: click in c:\\users\\chatla manikanta\\anaconda3\\lib\\site-packages (from nltk) (8.1.7)\n",
      "Requirement already satisfied: joblib in c:\\users\\chatla manikanta\\anaconda3\\lib\\site-packages (from nltk) (1.4.2)\n",
      "Requirement already satisfied: regex>=2021.8.3 in c:\\users\\chatla manikanta\\anaconda3\\lib\\site-packages (from nltk) (2024.9.11)\n",
      "Requirement already satisfied: tqdm in c:\\users\\chatla manikanta\\anaconda3\\lib\\site-packages (from nltk) (4.66.5)\n",
      "Requirement already satisfied: colorama in c:\\users\\chatla manikanta\\anaconda3\\lib\\site-packages (from click->nltk) (0.4.6)\n"
     ]
    }
   ],
   "source": [
    "!pip install --user -U nltk"
   ]
  },
  {
   "cell_type": "markdown",
   "id": "0356c996-ca6e-477f-be1c-30f8b0b21569",
   "metadata": {},
   "source": [
    "### Importing NLTK in to our notebook"
   ]
  },
  {
   "cell_type": "markdown",
   "id": "c1598221-7fde-4471-93a9-30235abd9fe8",
   "metadata": {},
   "source": [
    "1. Downloading vader_lexicon for sentiment analysis\n",
    "2. Downloading punkt for tokenization\n",
    "3. Downloading stopwords for text processing"
   ]
  },
  {
   "cell_type": "code",
   "execution_count": 13,
   "id": "a60fe6b0-304b-4d31-97fc-999037e4724e",
   "metadata": {},
   "outputs": [
    {
     "name": "stderr",
     "output_type": "stream",
     "text": [
      "[nltk_data] Downloading package vader_lexicon to C:\\Users\\Chatla\n",
      "[nltk_data]     Manikanta\\AppData\\Roaming\\nltk_data...\n",
      "[nltk_data]   Package vader_lexicon is already up-to-date!\n",
      "[nltk_data] Downloading package punkt to C:\\Users\\Chatla\n",
      "[nltk_data]     Manikanta\\AppData\\Roaming\\nltk_data...\n",
      "[nltk_data]   Package punkt is already up-to-date!\n",
      "[nltk_data] Downloading package stopwords to C:\\Users\\Chatla\n",
      "[nltk_data]     Manikanta\\AppData\\Roaming\\nltk_data...\n",
      "[nltk_data]   Package stopwords is already up-to-date!\n"
     ]
    },
    {
     "data": {
      "text/plain": [
       "True"
      ]
     },
     "execution_count": 13,
     "metadata": {},
     "output_type": "execute_result"
    }
   ],
   "source": [
    "import nltk\n",
    "\n",
    "nltk.download(\"vader_lexicon\")\n",
    "nltk.download(\"punkt\")\n",
    "nltk.download(\"stopwords\")"
   ]
  },
  {
   "cell_type": "markdown",
   "id": "a848ab70-cf0b-4d85-9bff-9ccde931d9c0",
   "metadata": {},
   "source": [
    "### Checking the SentimentIntensityAnalyzer with a single record in the dataset"
   ]
  },
  {
   "cell_type": "code",
   "execution_count": 14,
   "id": "4d31bbac-0110-4c5f-af83-3b6e571f87cd",
   "metadata": {},
   "outputs": [
    {
     "data": {
      "text/plain": [
       "{'neg': 0.089, 'neu': 0.714, 'pos': 0.196, 'compound': 0.4215}"
      ]
     },
     "execution_count": 14,
     "metadata": {},
     "output_type": "execute_result"
    }
   ],
   "source": [
    "from nltk.sentiment.vader import SentimentIntensityAnalyzer\n",
    "\n",
    "sia = SentimentIntensityAnalyzer()\n",
    "\n",
    "examp = df.loc[40][\"body\"]\n",
    "sia.polarity_scores(examp)"
   ]
  },
  {
   "cell_type": "markdown",
   "id": "5e8414e5-3382-4fbd-a873-8b1050437725",
   "metadata": {},
   "source": [
    "### Creating a new column \"sentiment\" based on the sentiment intensity of the body of each mail"
   ]
  },
  {
   "cell_type": "code",
   "execution_count": 15,
   "id": "2d847c6e-6297-4217-b65d-e9c931069356",
   "metadata": {},
   "outputs": [],
   "source": [
    "df[\"sentiment\"] = df[\"body\"].apply(lambda x : \"Positive\" if sia.polarity_scores(x)[\"compound\"] > 0.05 \n",
    "                                  else \"Negative\" if sia.polarity_scores(x)[\"compound\"] < -0.05\n",
    "                                  else \"Neutral\")"
   ]
  },
  {
   "cell_type": "code",
   "execution_count": 16,
   "id": "9210d0ec-21c6-4f01-994f-6bac819e1a98",
   "metadata": {},
   "outputs": [
    {
     "data": {
      "text/plain": [
       "{'neg': 0.011, 'neu': 0.989, 'pos': 0.0, 'compound': -0.1511}"
      ]
     },
     "execution_count": 16,
     "metadata": {},
     "output_type": "execute_result"
    }
   ],
   "source": [
    "sia.polarity_scores(df.loc[9][\"body\"])"
   ]
  },
  {
   "cell_type": "markdown",
   "id": "ae5b3108-7f6a-4836-9fea-2f4ce1d5bc6a",
   "metadata": {},
   "source": [
    "### These features are quick predictors and give insight on variance and patterns."
   ]
  },
  {
   "cell_type": "code",
   "execution_count": 17,
   "id": "e8b09b0d-5ed1-40d7-9647-e18cc51a6ab2",
   "metadata": {},
   "outputs": [],
   "source": [
    "df['body_len'] = df['body'].str.len()\n",
    "df['word_count'] = df['body'].str.split().apply(len)"
   ]
  },
  {
   "cell_type": "code",
   "execution_count": 18,
   "id": "34b19643-d632-461d-a246-89f4af8bc34a",
   "metadata": {},
   "outputs": [
    {
     "data": {
      "text/html": [
       "<div>\n",
       "<style scoped>\n",
       "    .dataframe tbody tr th:only-of-type {\n",
       "        vertical-align: middle;\n",
       "    }\n",
       "\n",
       "    .dataframe tbody tr th {\n",
       "        vertical-align: top;\n",
       "    }\n",
       "\n",
       "    .dataframe thead th {\n",
       "        text-align: right;\n",
       "    }\n",
       "</style>\n",
       "<table border=\"1\" class=\"dataframe\">\n",
       "  <thead>\n",
       "    <tr style=\"text-align: right;\">\n",
       "      <th></th>\n",
       "      <th>emp_id</th>\n",
       "      <th>Subject</th>\n",
       "      <th>body</th>\n",
       "      <th>date</th>\n",
       "      <th>from</th>\n",
       "      <th>sentiment</th>\n",
       "      <th>body_len</th>\n",
       "      <th>word_count</th>\n",
       "    </tr>\n",
       "  </thead>\n",
       "  <tbody>\n",
       "    <tr>\n",
       "      <th>0</th>\n",
       "      <td>0</td>\n",
       "      <td>EnronOptions Update!</td>\n",
       "      <td>EnronOptions Announcement\\n\\n\\nWe have updated...</td>\n",
       "      <td>2010-05-10</td>\n",
       "      <td>sally.beck@enron.com</td>\n",
       "      <td>Positive</td>\n",
       "      <td>692</td>\n",
       "      <td>101</td>\n",
       "    </tr>\n",
       "    <tr>\n",
       "      <th>1</th>\n",
       "      <td>1</td>\n",
       "      <td>(No Subject)</td>\n",
       "      <td>Marc,\\n\\nUnfortunately, today is not going to ...</td>\n",
       "      <td>2010-07-29</td>\n",
       "      <td>eric.bass@enron.com</td>\n",
       "      <td>Positive</td>\n",
       "      <td>315</td>\n",
       "      <td>57</td>\n",
       "    </tr>\n",
       "    <tr>\n",
       "      <th>2</th>\n",
       "      <td>2</td>\n",
       "      <td>Phone Screen  Interview - Shannon L. Burnham</td>\n",
       "      <td>When: Wednesday, June 06, 2001 10:00 AM-11:00 ...</td>\n",
       "      <td>2011-07-25</td>\n",
       "      <td>sally.beck@enron.com</td>\n",
       "      <td>Neutral</td>\n",
       "      <td>150</td>\n",
       "      <td>21</td>\n",
       "    </tr>\n",
       "    <tr>\n",
       "      <th>3</th>\n",
       "      <td>3</td>\n",
       "      <td>RE: My new work email</td>\n",
       "      <td>we were thinking papasitos (we can meet somewh...</td>\n",
       "      <td>2010-03-25</td>\n",
       "      <td>johnny.palmer@enron.com</td>\n",
       "      <td>Neutral</td>\n",
       "      <td>155</td>\n",
       "      <td>24</td>\n",
       "    </tr>\n",
       "    <tr>\n",
       "      <th>4</th>\n",
       "      <td>4</td>\n",
       "      <td>Bet</td>\n",
       "      <td>Since you never gave me the $20 for the last t...</td>\n",
       "      <td>2011-05-21</td>\n",
       "      <td>lydia.delgado@enron.com</td>\n",
       "      <td>Positive</td>\n",
       "      <td>197</td>\n",
       "      <td>42</td>\n",
       "    </tr>\n",
       "  </tbody>\n",
       "</table>\n",
       "</div>"
      ],
      "text/plain": [
       "   emp_id                                       Subject  \\\n",
       "0       0                          EnronOptions Update!   \n",
       "1       1                                  (No Subject)   \n",
       "2       2  Phone Screen  Interview - Shannon L. Burnham   \n",
       "3       3                         RE: My new work email   \n",
       "4       4                                           Bet   \n",
       "\n",
       "                                                body       date  \\\n",
       "0  EnronOptions Announcement\\n\\n\\nWe have updated... 2010-05-10   \n",
       "1  Marc,\\n\\nUnfortunately, today is not going to ... 2010-07-29   \n",
       "2  When: Wednesday, June 06, 2001 10:00 AM-11:00 ... 2011-07-25   \n",
       "3  we were thinking papasitos (we can meet somewh... 2010-03-25   \n",
       "4  Since you never gave me the $20 for the last t... 2011-05-21   \n",
       "\n",
       "                      from sentiment  body_len  word_count  \n",
       "0     sally.beck@enron.com  Positive       692         101  \n",
       "1      eric.bass@enron.com  Positive       315          57  \n",
       "2     sally.beck@enron.com   Neutral       150          21  \n",
       "3  johnny.palmer@enron.com   Neutral       155          24  \n",
       "4  lydia.delgado@enron.com  Positive       197          42  "
      ]
     },
     "execution_count": 18,
     "metadata": {},
     "output_type": "execute_result"
    }
   ],
   "source": [
    "df.head()"
   ]
  },
  {
   "cell_type": "markdown",
   "id": "1e685d02-64e1-4611-b157-1e844f90fc48",
   "metadata": {},
   "source": [
    "### Visual representation of message_len and word_count"
   ]
  },
  {
   "cell_type": "code",
   "execution_count": 19,
   "id": "ff0df60d-3df7-4cdc-8f65-aa56ddc578d8",
   "metadata": {},
   "outputs": [
    {
     "data": {
      "image/png": "[encoded data removed]",
      "text/plain": [
       "<Figure size 1200x400 with 2 Axes>"
      ]
     },
     "metadata": {},
     "output_type": "display_data"
    }
   ],
   "source": [
    "import seaborn as sb\n",
    "features = [\"body_len\",\"word_count\"]\n",
    "\n",
    "plt.figure(figsize=(12,4))\n",
    "for i,f in enumerate(features):\n",
    "    plt.subplot(1,2,i+1)\n",
    "    sb.histplot(data=df,x=f,bins=50)\n",
    "    if f==\"body_len\":\n",
    "        plt.title(\"Message length distribution (chars)\")\n",
    "        plt.xlabel(\"Characters\")\n",
    "    else:\n",
    "        plt.title(\"Word Count distribution\")\n",
    "        plt.xlabel(\"Words\")\n",
    "plt.show()"
   ]
  },
  {
   "cell_type": "markdown",
   "id": "5124d392-8cd7-4d0f-b512-e94660ae7c3f",
   "metadata": {},
   "source": [
    "#### From the above visualizations we can observe that\n",
    "1. Most of the users send a message of 0-200 characters.\n",
    "2. Most of the users send a message of 0-25 characters."
   ]
  },
  {
   "cell_type": "code",
   "execution_count": 20,
   "id": "e7fd58b1-29b9-40e9-8f84-05d56adf3ed1",
   "metadata": {},
   "outputs": [
    {
     "data": {
      "text/plain": [
       "sentiment\n",
       "Positive    1528\n",
       "Neutral      511\n",
       "Negative     152\n",
       "Name: count, dtype: int64"
      ]
     },
     "execution_count": 20,
     "metadata": {},
     "output_type": "execute_result"
    }
   ],
   "source": [
    "sent_counts = df[\"sentiment\"].value_counts()\n",
    "sent_counts"
   ]
  },
  {
   "cell_type": "markdown",
   "id": "c88030a1-6df1-4578-a8d4-2b42b23b5b62",
   "metadata": {},
   "source": [
    "### We plot sentiment distribution to know which sentiment is dominant"
   ]
  },
  {
   "cell_type": "code",
   "execution_count": 21,
   "id": "84170101-d63e-40bb-a9da-961eadff08cf",
   "metadata": {},
   "outputs": [
    {
     "data": {
      "image/png": "[encoded data removed]",
      "text/plain": [
       "<Figure size 640x480 with 1 Axes>"
      ]
     },
     "metadata": {},
     "output_type": "display_data"
    }
   ],
   "source": [
    "sb.barplot(x=sent_counts.index,y=sent_counts.values,palette = [\"green\",\"orange\",\"red\"],hue=sent_counts.index,legend=False)\n",
    "plt.title(\"Sentiment Distribution\")\n",
    "plt.xlabel(\"Sentiment\")\n",
    "plt.ylabel(\"Count\")\n",
    "plt.show()"
   ]
  },
  {
   "cell_type": "markdown",
   "id": "50d2c9c5-8ef9-4aaf-ac73-373cbc34786d",
   "metadata": {},
   "source": [
    "#### From the above visualization we can observe that => Most of the messages are in the positive tone."
   ]
  },
  {
   "cell_type": "markdown",
   "id": "1c866c49-3c1d-4717-b069-9523ad8db60b",
   "metadata": {},
   "source": [
    "### This distribution is helpful to analyze is sentiment improving, dropping, or stable over time.?"
   ]
  },
  {
   "cell_type": "code",
   "execution_count": 22,
   "id": "1502222c-a5e9-457a-aef1-fd1767a14d80",
   "metadata": {},
   "outputs": [
    {
     "data": {
      "image/png": "[encoded data removed]",
      "text/plain": [
       "<Figure size 1000x500 with 1 Axes>"
      ]
     },
     "metadata": {},
     "output_type": "display_data"
    }
   ],
   "source": [
    "daily_sentiment = df.groupby([df['date'].dt.date, 'sentiment']).size().unstack(fill_value=0)\n",
    "\n",
    "daily_sentiment.plot(figsize=(10,5))\n",
    "plt.title('Sentiment Trend Over Time')\n",
    "plt.xlabel('Date')\n",
    "plt.ylabel('Message Count')\n",
    "plt.legend(title='Sentiment')\n",
    "plt.show()\n"
   ]
  },
  {
   "cell_type": "markdown",
   "id": "d18fe225-4e91-409c-b7d2-893ae2eb03eb",
   "metadata": {},
   "source": [
    "#### We can observe that over the period of time there are no drop of positive messages or increasing of negative messages, it is constant over the time."
   ]
  },
  {
   "cell_type": "markdown",
   "id": "eb288d26-3dbe-4a38-830f-3d2848318be6",
   "metadata": {},
   "source": [
    "### Analyzing the dates with high negative messages"
   ]
  },
  {
   "cell_type": "code",
   "execution_count": 23,
   "id": "bbdc0031-8572-42a1-b407-c664a79023aa",
   "metadata": {},
   "outputs": [
    {
     "name": "stdout",
     "output_type": "stream",
     "text": [
      "\n",
      "Days with unusually high negative messages:\n",
      " date\n",
      "2010-02-25    2\n",
      "2010-03-26    2\n",
      "2011-01-09    2\n",
      "2011-01-29    2\n",
      "2011-02-18    2\n",
      "2011-07-20    2\n",
      "2011-08-06    2\n",
      "2011-11-04    2\n",
      "2011-12-21    2\n",
      "dtype: int64\n"
     ]
    }
   ],
   "source": [
    "neg_trend = df[df['sentiment'] == 'Negative'].groupby(df['date'].dt.date).size()\n",
    "threshold = neg_trend.mean() + 2 * neg_trend.std()\n",
    "unusual_days = neg_trend[neg_trend > threshold]\n",
    "print(\"\\nDays with unusually high negative messages:\\n\", unusual_days)\n"
   ]
  },
  {
   "cell_type": "markdown",
   "id": "01f76c55-2386-41a8-b31a-9002a19f59a2",
   "metadata": {},
   "source": [
    "### Mapping sentiment scores with respect to their sentiments"
   ]
  },
  {
   "cell_type": "code",
   "execution_count": 24,
   "id": "f9c6554d-6a50-40e5-9961-4303e7c304a9",
   "metadata": {},
   "outputs": [],
   "source": [
    "df[\"sentiment_score\"] = df[\"sentiment\"].apply(lambda x : 1 if x == \"Positive\"\n",
    "                                             else -1 if x == \"Negative\"\n",
    "                                             else 0)\n"
   ]
  },
  {
   "cell_type": "code",
   "execution_count": 25,
   "id": "d245035c-5d88-4e1c-8113-14561c1c1d57",
   "metadata": {},
   "outputs": [
    {
     "data": {
      "text/html": [
       "<div>\n",
       "<style scoped>\n",
       "    .dataframe tbody tr th:only-of-type {\n",
       "        vertical-align: middle;\n",
       "    }\n",
       "\n",
       "    .dataframe tbody tr th {\n",
       "        vertical-align: top;\n",
       "    }\n",
       "\n",
       "    .dataframe thead th {\n",
       "        text-align: right;\n",
       "    }\n",
       "</style>\n",
       "<table border=\"1\" class=\"dataframe\">\n",
       "  <thead>\n",
       "    <tr style=\"text-align: right;\">\n",
       "      <th></th>\n",
       "      <th>emp_id</th>\n",
       "      <th>Subject</th>\n",
       "      <th>body</th>\n",
       "      <th>date</th>\n",
       "      <th>from</th>\n",
       "      <th>sentiment</th>\n",
       "      <th>body_len</th>\n",
       "      <th>word_count</th>\n",
       "      <th>sentiment_score</th>\n",
       "      <th>month</th>\n",
       "    </tr>\n",
       "  </thead>\n",
       "  <tbody>\n",
       "    <tr>\n",
       "      <th>0</th>\n",
       "      <td>0</td>\n",
       "      <td>EnronOptions Update!</td>\n",
       "      <td>EnronOptions Announcement\\n\\n\\nWe have updated...</td>\n",
       "      <td>2010-05-10</td>\n",
       "      <td>sally.beck@enron.com</td>\n",
       "      <td>Positive</td>\n",
       "      <td>692</td>\n",
       "      <td>101</td>\n",
       "      <td>1</td>\n",
       "      <td>2010-05</td>\n",
       "    </tr>\n",
       "    <tr>\n",
       "      <th>1</th>\n",
       "      <td>1</td>\n",
       "      <td>(No Subject)</td>\n",
       "      <td>Marc,\\n\\nUnfortunately, today is not going to ...</td>\n",
       "      <td>2010-07-29</td>\n",
       "      <td>eric.bass@enron.com</td>\n",
       "      <td>Positive</td>\n",
       "      <td>315</td>\n",
       "      <td>57</td>\n",
       "      <td>1</td>\n",
       "      <td>2010-07</td>\n",
       "    </tr>\n",
       "    <tr>\n",
       "      <th>2</th>\n",
       "      <td>2</td>\n",
       "      <td>Phone Screen  Interview - Shannon L. Burnham</td>\n",
       "      <td>When: Wednesday, June 06, 2001 10:00 AM-11:00 ...</td>\n",
       "      <td>2011-07-25</td>\n",
       "      <td>sally.beck@enron.com</td>\n",
       "      <td>Neutral</td>\n",
       "      <td>150</td>\n",
       "      <td>21</td>\n",
       "      <td>0</td>\n",
       "      <td>2011-07</td>\n",
       "    </tr>\n",
       "    <tr>\n",
       "      <th>3</th>\n",
       "      <td>3</td>\n",
       "      <td>RE: My new work email</td>\n",
       "      <td>we were thinking papasitos (we can meet somewh...</td>\n",
       "      <td>2010-03-25</td>\n",
       "      <td>johnny.palmer@enron.com</td>\n",
       "      <td>Neutral</td>\n",
       "      <td>155</td>\n",
       "      <td>24</td>\n",
       "      <td>0</td>\n",
       "      <td>2010-03</td>\n",
       "    </tr>\n",
       "    <tr>\n",
       "      <th>4</th>\n",
       "      <td>4</td>\n",
       "      <td>Bet</td>\n",
       "      <td>Since you never gave me the $20 for the last t...</td>\n",
       "      <td>2011-05-21</td>\n",
       "      <td>lydia.delgado@enron.com</td>\n",
       "      <td>Positive</td>\n",
       "      <td>197</td>\n",
       "      <td>42</td>\n",
       "      <td>1</td>\n",
       "      <td>2011-05</td>\n",
       "    </tr>\n",
       "  </tbody>\n",
       "</table>\n",
       "</div>"
      ],
      "text/plain": [
       "   emp_id                                       Subject  \\\n",
       "0       0                          EnronOptions Update!   \n",
       "1       1                                  (No Subject)   \n",
       "2       2  Phone Screen  Interview - Shannon L. Burnham   \n",
       "3       3                         RE: My new work email   \n",
       "4       4                                           Bet   \n",
       "\n",
       "                                                body       date  \\\n",
       "0  EnronOptions Announcement\\n\\n\\nWe have updated... 2010-05-10   \n",
       "1  Marc,\\n\\nUnfortunately, today is not going to ... 2010-07-29   \n",
       "2  When: Wednesday, June 06, 2001 10:00 AM-11:00 ... 2011-07-25   \n",
       "3  we were thinking papasitos (we can meet somewh... 2010-03-25   \n",
       "4  Since you never gave me the $20 for the last t... 2011-05-21   \n",
       "\n",
       "                      from sentiment  body_len  word_count  sentiment_score  \\\n",
       "0     sally.beck@enron.com  Positive       692         101                1   \n",
       "1      eric.bass@enron.com  Positive       315          57                1   \n",
       "2     sally.beck@enron.com   Neutral       150          21                0   \n",
       "3  johnny.palmer@enron.com   Neutral       155          24                0   \n",
       "4  lydia.delgado@enron.com  Positive       197          42                1   \n",
       "\n",
       "     month  \n",
       "0  2010-05  \n",
       "1  2010-07  \n",
       "2  2011-07  \n",
       "3  2010-03  \n",
       "4  2011-05  "
      ]
     },
     "execution_count": 25,
     "metadata": {},
     "output_type": "execute_result"
    }
   ],
   "source": [
    "df[\"month\"] = df[\"date\"].dt.to_period(\"M\")\n",
    "df.head()"
   ]
  },
  {
   "cell_type": "markdown",
   "id": "58b255db-b174-4890-b47c-21699e8102b9",
   "metadata": {},
   "source": [
    "### Aggregate scores on a monthly basis for each employee"
   ]
  },
  {
   "cell_type": "code",
   "execution_count": 26,
   "id": "c3576125-6236-41d2-9d86-7675f08706ef",
   "metadata": {},
   "outputs": [
    {
     "data": {
      "text/html": [
       "<div>\n",
       "<style scoped>\n",
       "    .dataframe tbody tr th:only-of-type {\n",
       "        vertical-align: middle;\n",
       "    }\n",
       "\n",
       "    .dataframe tbody tr th {\n",
       "        vertical-align: top;\n",
       "    }\n",
       "\n",
       "    .dataframe thead th {\n",
       "        text-align: right;\n",
       "    }\n",
       "</style>\n",
       "<table border=\"1\" class=\"dataframe\">\n",
       "  <thead>\n",
       "    <tr style=\"text-align: right;\">\n",
       "      <th></th>\n",
       "      <th>emp_id</th>\n",
       "      <th>month</th>\n",
       "      <th>sentiment_score</th>\n",
       "    </tr>\n",
       "  </thead>\n",
       "  <tbody>\n",
       "    <tr>\n",
       "      <th>0</th>\n",
       "      <td>0</td>\n",
       "      <td>2010-05</td>\n",
       "      <td>1</td>\n",
       "    </tr>\n",
       "    <tr>\n",
       "      <th>1</th>\n",
       "      <td>1</td>\n",
       "      <td>2010-07</td>\n",
       "      <td>1</td>\n",
       "    </tr>\n",
       "    <tr>\n",
       "      <th>2</th>\n",
       "      <td>2</td>\n",
       "      <td>2011-07</td>\n",
       "      <td>0</td>\n",
       "    </tr>\n",
       "    <tr>\n",
       "      <th>3</th>\n",
       "      <td>3</td>\n",
       "      <td>2010-03</td>\n",
       "      <td>0</td>\n",
       "    </tr>\n",
       "    <tr>\n",
       "      <th>4</th>\n",
       "      <td>4</td>\n",
       "      <td>2011-05</td>\n",
       "      <td>1</td>\n",
       "    </tr>\n",
       "    <tr>\n",
       "      <th>...</th>\n",
       "      <td>...</td>\n",
       "      <td>...</td>\n",
       "      <td>...</td>\n",
       "    </tr>\n",
       "    <tr>\n",
       "      <th>2186</th>\n",
       "      <td>2186</td>\n",
       "      <td>2011-06</td>\n",
       "      <td>1</td>\n",
       "    </tr>\n",
       "    <tr>\n",
       "      <th>2187</th>\n",
       "      <td>2187</td>\n",
       "      <td>2011-01</td>\n",
       "      <td>1</td>\n",
       "    </tr>\n",
       "    <tr>\n",
       "      <th>2188</th>\n",
       "      <td>2188</td>\n",
       "      <td>2011-01</td>\n",
       "      <td>1</td>\n",
       "    </tr>\n",
       "    <tr>\n",
       "      <th>2189</th>\n",
       "      <td>2189</td>\n",
       "      <td>2011-03</td>\n",
       "      <td>1</td>\n",
       "    </tr>\n",
       "    <tr>\n",
       "      <th>2190</th>\n",
       "      <td>2190</td>\n",
       "      <td>2010-10</td>\n",
       "      <td>1</td>\n",
       "    </tr>\n",
       "  </tbody>\n",
       "</table>\n",
       "<p>2191 rows × 3 columns</p>\n",
       "</div>"
      ],
      "text/plain": [
       "      emp_id    month  sentiment_score\n",
       "0          0  2010-05                1\n",
       "1          1  2010-07                1\n",
       "2          2  2011-07                0\n",
       "3          3  2010-03                0\n",
       "4          4  2011-05                1\n",
       "...      ...      ...              ...\n",
       "2186    2186  2011-06                1\n",
       "2187    2187  2011-01                1\n",
       "2188    2188  2011-01                1\n",
       "2189    2189  2011-03                1\n",
       "2190    2190  2010-10                1\n",
       "\n",
       "[2191 rows x 3 columns]"
      ]
     },
     "execution_count": 26,
     "metadata": {},
     "output_type": "execute_result"
    }
   ],
   "source": [
    "monthly_scores = (\n",
    "    df.groupby([\"emp_id\",\"month\"])[\"sentiment_score\"]\n",
    "    .sum()\n",
    "    .reset_index()\n",
    "    .sort_values([\"emp_id\", \"month\"])\n",
    ")\n",
    "monthly_scores"
   ]
  },
  {
   "cell_type": "markdown",
   "id": "167fd438-ca92-4681-b1f4-55b4ba3693f7",
   "metadata": {},
   "source": [
    "### To ensure that there are no anomalies"
   ]
  },
  {
   "cell_type": "code",
   "execution_count": 27,
   "id": "e855b004-d3c9-487d-95fa-6f3a47a38f92",
   "metadata": {},
   "outputs": [
    {
     "name": "stdout",
     "output_type": "stream",
     "text": [
      "0\n",
      "count    2191.000000\n",
      "mean        0.628024\n",
      "std         0.610352\n",
      "min        -1.000000\n",
      "25%         0.000000\n",
      "50%         1.000000\n",
      "75%         1.000000\n",
      "max         1.000000\n",
      "Name: sentiment_score, dtype: float64\n"
     ]
    }
   ],
   "source": [
    "print(monthly_scores.duplicated(subset=['emp_id','month']).sum())  \n",
    "\n",
    "print(monthly_scores['sentiment_score'].describe())"
   ]
  },
  {
   "cell_type": "markdown",
   "id": "fb9713cd-3ccf-4baf-838d-bc2a4acb0391",
   "metadata": {},
   "source": [
    "### Sorting monthly_scores first in descending order and then in alphabetical order."
   ]
  },
  {
   "cell_type": "code",
   "execution_count": 28,
   "id": "3ab0c27c-5b85-4377-b15e-d0a8e48517d5",
   "metadata": {},
   "outputs": [],
   "source": [
    "monthly_scores_sorted = monthly_scores.sort_values(\n",
    "    by=[\"month\", \"sentiment_score\", \"emp_id\"],\n",
    "    ascending=[True, False, True]  \n",
    ")"
   ]
  },
  {
   "cell_type": "code",
   "execution_count": 29,
   "id": "39339bf5-4a6c-42eb-973d-9cf350e8ee74",
   "metadata": {},
   "outputs": [
    {
     "data": {
      "text/html": [
       "<div>\n",
       "<style scoped>\n",
       "    .dataframe tbody tr th:only-of-type {\n",
       "        vertical-align: middle;\n",
       "    }\n",
       "\n",
       "    .dataframe tbody tr th {\n",
       "        vertical-align: top;\n",
       "    }\n",
       "\n",
       "    .dataframe thead th {\n",
       "        text-align: right;\n",
       "    }\n",
       "</style>\n",
       "<table border=\"1\" class=\"dataframe\">\n",
       "  <thead>\n",
       "    <tr style=\"text-align: right;\">\n",
       "      <th></th>\n",
       "      <th>emp_id</th>\n",
       "      <th>month</th>\n",
       "      <th>sentiment_score</th>\n",
       "    </tr>\n",
       "  </thead>\n",
       "  <tbody>\n",
       "    <tr>\n",
       "      <th>116</th>\n",
       "      <td>116</td>\n",
       "      <td>2010-01</td>\n",
       "      <td>1</td>\n",
       "    </tr>\n",
       "    <tr>\n",
       "      <th>162</th>\n",
       "      <td>162</td>\n",
       "      <td>2010-01</td>\n",
       "      <td>1</td>\n",
       "    </tr>\n",
       "    <tr>\n",
       "      <th>211</th>\n",
       "      <td>211</td>\n",
       "      <td>2010-01</td>\n",
       "      <td>1</td>\n",
       "    </tr>\n",
       "    <tr>\n",
       "      <th>234</th>\n",
       "      <td>234</td>\n",
       "      <td>2010-01</td>\n",
       "      <td>1</td>\n",
       "    </tr>\n",
       "    <tr>\n",
       "      <th>276</th>\n",
       "      <td>276</td>\n",
       "      <td>2010-01</td>\n",
       "      <td>1</td>\n",
       "    </tr>\n",
       "    <tr>\n",
       "      <th>...</th>\n",
       "      <td>...</td>\n",
       "      <td>...</td>\n",
       "      <td>...</td>\n",
       "    </tr>\n",
       "    <tr>\n",
       "      <th>1985</th>\n",
       "      <td>1985</td>\n",
       "      <td>2011-12</td>\n",
       "      <td>0</td>\n",
       "    </tr>\n",
       "    <tr>\n",
       "      <th>2151</th>\n",
       "      <td>2151</td>\n",
       "      <td>2011-12</td>\n",
       "      <td>0</td>\n",
       "    </tr>\n",
       "    <tr>\n",
       "      <th>725</th>\n",
       "      <td>725</td>\n",
       "      <td>2011-12</td>\n",
       "      <td>-1</td>\n",
       "    </tr>\n",
       "    <tr>\n",
       "      <th>960</th>\n",
       "      <td>960</td>\n",
       "      <td>2011-12</td>\n",
       "      <td>-1</td>\n",
       "    </tr>\n",
       "    <tr>\n",
       "      <th>1574</th>\n",
       "      <td>1574</td>\n",
       "      <td>2011-12</td>\n",
       "      <td>-1</td>\n",
       "    </tr>\n",
       "  </tbody>\n",
       "</table>\n",
       "<p>2191 rows × 3 columns</p>\n",
       "</div>"
      ],
      "text/plain": [
       "      emp_id    month  sentiment_score\n",
       "116      116  2010-01                1\n",
       "162      162  2010-01                1\n",
       "211      211  2010-01                1\n",
       "234      234  2010-01                1\n",
       "276      276  2010-01                1\n",
       "...      ...      ...              ...\n",
       "1985    1985  2011-12                0\n",
       "2151    2151  2011-12                0\n",
       "725      725  2011-12               -1\n",
       "960      960  2011-12               -1\n",
       "1574    1574  2011-12               -1\n",
       "\n",
       "[2191 rows x 3 columns]"
      ]
     },
     "execution_count": 29,
     "metadata": {},
     "output_type": "execute_result"
    }
   ],
   "source": [
    "monthly_scores_sorted"
   ]
  },
  {
   "cell_type": "markdown",
   "id": "e7bb54e4-857c-4ff8-939b-d593a58ed91b",
   "metadata": {},
   "source": [
    "### Group by month and pick top 3 after sorting descending"
   ]
  },
  {
   "cell_type": "code",
   "execution_count": 30,
   "id": "034776bb-c350-47ec-8bdb-27a9a3b66f07",
   "metadata": {},
   "outputs": [
    {
     "data": {
      "text/html": [
       "<div>\n",
       "<style scoped>\n",
       "    .dataframe tbody tr th:only-of-type {\n",
       "        vertical-align: middle;\n",
       "    }\n",
       "\n",
       "    .dataframe tbody tr th {\n",
       "        vertical-align: top;\n",
       "    }\n",
       "\n",
       "    .dataframe thead th {\n",
       "        text-align: right;\n",
       "    }\n",
       "</style>\n",
       "<table border=\"1\" class=\"dataframe\">\n",
       "  <thead>\n",
       "    <tr style=\"text-align: right;\">\n",
       "      <th></th>\n",
       "      <th>emp_id</th>\n",
       "      <th>month</th>\n",
       "      <th>sentiment_score</th>\n",
       "    </tr>\n",
       "  </thead>\n",
       "  <tbody>\n",
       "    <tr>\n",
       "      <th>0</th>\n",
       "      <td>116</td>\n",
       "      <td>2010-01</td>\n",
       "      <td>1</td>\n",
       "    </tr>\n",
       "    <tr>\n",
       "      <th>1</th>\n",
       "      <td>162</td>\n",
       "      <td>2010-01</td>\n",
       "      <td>1</td>\n",
       "    </tr>\n",
       "    <tr>\n",
       "      <th>2</th>\n",
       "      <td>211</td>\n",
       "      <td>2010-01</td>\n",
       "      <td>1</td>\n",
       "    </tr>\n",
       "    <tr>\n",
       "      <th>3</th>\n",
       "      <td>8</td>\n",
       "      <td>2010-02</td>\n",
       "      <td>1</td>\n",
       "    </tr>\n",
       "    <tr>\n",
       "      <th>4</th>\n",
       "      <td>10</td>\n",
       "      <td>2010-02</td>\n",
       "      <td>1</td>\n",
       "    </tr>\n",
       "    <tr>\n",
       "      <th>...</th>\n",
       "      <td>...</td>\n",
       "      <td>...</td>\n",
       "      <td>...</td>\n",
       "    </tr>\n",
       "    <tr>\n",
       "      <th>67</th>\n",
       "      <td>102</td>\n",
       "      <td>2011-11</td>\n",
       "      <td>1</td>\n",
       "    </tr>\n",
       "    <tr>\n",
       "      <th>68</th>\n",
       "      <td>145</td>\n",
       "      <td>2011-11</td>\n",
       "      <td>1</td>\n",
       "    </tr>\n",
       "    <tr>\n",
       "      <th>69</th>\n",
       "      <td>18</td>\n",
       "      <td>2011-12</td>\n",
       "      <td>1</td>\n",
       "    </tr>\n",
       "    <tr>\n",
       "      <th>70</th>\n",
       "      <td>70</td>\n",
       "      <td>2011-12</td>\n",
       "      <td>1</td>\n",
       "    </tr>\n",
       "    <tr>\n",
       "      <th>71</th>\n",
       "      <td>104</td>\n",
       "      <td>2011-12</td>\n",
       "      <td>1</td>\n",
       "    </tr>\n",
       "  </tbody>\n",
       "</table>\n",
       "<p>72 rows × 3 columns</p>\n",
       "</div>"
      ],
      "text/plain": [
       "    emp_id    month  sentiment_score\n",
       "0      116  2010-01                1\n",
       "1      162  2010-01                1\n",
       "2      211  2010-01                1\n",
       "3        8  2010-02                1\n",
       "4       10  2010-02                1\n",
       "..     ...      ...              ...\n",
       "67     102  2011-11                1\n",
       "68     145  2011-11                1\n",
       "69      18  2011-12                1\n",
       "70      70  2011-12                1\n",
       "71     104  2011-12                1\n",
       "\n",
       "[72 rows x 3 columns]"
      ]
     },
     "execution_count": 30,
     "metadata": {},
     "output_type": "execute_result"
    }
   ],
   "source": [
    "top_positive = (\n",
    "    monthly_scores_sorted.groupby(\"month\")\n",
    "    .head(3)\n",
    "    .reset_index(drop=True)\n",
    ")\n",
    "top_positive"
   ]
  },
  {
   "cell_type": "markdown",
   "id": "cd4dea2b-e4a0-4c9e-b566-dae0a9b763d8",
   "metadata": {},
   "source": [
    "### Sort ascending to get lowest scores and Group by month and pick bottom 3"
   ]
  },
  {
   "cell_type": "code",
   "execution_count": 31,
   "id": "7c33fabf-adc6-4acc-bf26-521612e65338",
   "metadata": {},
   "outputs": [
    {
     "data": {
      "text/html": [
       "<div>\n",
       "<style scoped>\n",
       "    .dataframe tbody tr th:only-of-type {\n",
       "        vertical-align: middle;\n",
       "    }\n",
       "\n",
       "    .dataframe tbody tr th {\n",
       "        vertical-align: top;\n",
       "    }\n",
       "\n",
       "    .dataframe thead th {\n",
       "        text-align: right;\n",
       "    }\n",
       "</style>\n",
       "<table border=\"1\" class=\"dataframe\">\n",
       "  <thead>\n",
       "    <tr style=\"text-align: right;\">\n",
       "      <th></th>\n",
       "      <th>emp_id</th>\n",
       "      <th>month</th>\n",
       "      <th>sentiment_score</th>\n",
       "    </tr>\n",
       "  </thead>\n",
       "  <tbody>\n",
       "    <tr>\n",
       "      <th>0</th>\n",
       "      <td>80</td>\n",
       "      <td>2010-01</td>\n",
       "      <td>-1</td>\n",
       "    </tr>\n",
       "    <tr>\n",
       "      <th>1</th>\n",
       "      <td>1136</td>\n",
       "      <td>2010-01</td>\n",
       "      <td>-1</td>\n",
       "    </tr>\n",
       "    <tr>\n",
       "      <th>2</th>\n",
       "      <td>1324</td>\n",
       "      <td>2010-01</td>\n",
       "      <td>-1</td>\n",
       "    </tr>\n",
       "    <tr>\n",
       "      <th>3</th>\n",
       "      <td>9</td>\n",
       "      <td>2010-02</td>\n",
       "      <td>-1</td>\n",
       "    </tr>\n",
       "    <tr>\n",
       "      <th>4</th>\n",
       "      <td>754</td>\n",
       "      <td>2010-02</td>\n",
       "      <td>-1</td>\n",
       "    </tr>\n",
       "    <tr>\n",
       "      <th>...</th>\n",
       "      <td>...</td>\n",
       "      <td>...</td>\n",
       "      <td>...</td>\n",
       "    </tr>\n",
       "    <tr>\n",
       "      <th>67</th>\n",
       "      <td>538</td>\n",
       "      <td>2011-11</td>\n",
       "      <td>-1</td>\n",
       "    </tr>\n",
       "    <tr>\n",
       "      <th>68</th>\n",
       "      <td>1297</td>\n",
       "      <td>2011-11</td>\n",
       "      <td>-1</td>\n",
       "    </tr>\n",
       "    <tr>\n",
       "      <th>69</th>\n",
       "      <td>725</td>\n",
       "      <td>2011-12</td>\n",
       "      <td>-1</td>\n",
       "    </tr>\n",
       "    <tr>\n",
       "      <th>70</th>\n",
       "      <td>960</td>\n",
       "      <td>2011-12</td>\n",
       "      <td>-1</td>\n",
       "    </tr>\n",
       "    <tr>\n",
       "      <th>71</th>\n",
       "      <td>1574</td>\n",
       "      <td>2011-12</td>\n",
       "      <td>-1</td>\n",
       "    </tr>\n",
       "  </tbody>\n",
       "</table>\n",
       "<p>72 rows × 3 columns</p>\n",
       "</div>"
      ],
      "text/plain": [
       "    emp_id    month  sentiment_score\n",
       "0       80  2010-01               -1\n",
       "1     1136  2010-01               -1\n",
       "2     1324  2010-01               -1\n",
       "3        9  2010-02               -1\n",
       "4      754  2010-02               -1\n",
       "..     ...      ...              ...\n",
       "67     538  2011-11               -1\n",
       "68    1297  2011-11               -1\n",
       "69     725  2011-12               -1\n",
       "70     960  2011-12               -1\n",
       "71    1574  2011-12               -1\n",
       "\n",
       "[72 rows x 3 columns]"
      ]
     },
     "execution_count": 31,
     "metadata": {},
     "output_type": "execute_result"
    }
   ],
   "source": [
    "\n",
    "monthly_scores_sorted_neg = monthly_scores.sort_values(\n",
    "    by=[\"month\", \"sentiment_score\", \"emp_id\"],\n",
    "    ascending=[True, True, True]\n",
    ")\n",
    "\n",
    "top_negative = (\n",
    "    monthly_scores_sorted_neg.groupby(\"month\")\n",
    "    .head(3)\n",
    "    .reset_index(drop=True)\n",
    ")\n",
    "\n",
    "top_negative"
   ]
  },
  {
   "cell_type": "markdown",
   "id": "89211cd6-dbc3-4823-8a29-f855c9d6a53a",
   "metadata": {},
   "source": [
    "### Ensuring that each month have top 3 employees from both positive and negative sentiments"
   ]
  },
  {
   "cell_type": "code",
   "execution_count": 32,
   "id": "52611abb-9395-4bf1-8d1d-50fcaef2eba0",
   "metadata": {},
   "outputs": [
    {
     "name": "stdout",
     "output_type": "stream",
     "text": [
      "month\n",
      "2010-01    3\n",
      "2010-02    3\n",
      "2010-03    3\n",
      "2010-04    3\n",
      "2010-05    3\n",
      "2010-06    3\n",
      "2010-07    3\n",
      "2010-08    3\n",
      "2010-09    3\n",
      "2010-10    3\n",
      "2010-11    3\n",
      "2010-12    3\n",
      "2011-01    3\n",
      "2011-02    3\n",
      "2011-03    3\n",
      "2011-04    3\n",
      "2011-05    3\n",
      "2011-06    3\n",
      "2011-07    3\n",
      "2011-08    3\n",
      "2011-09    3\n",
      "2011-10    3\n",
      "2011-11    3\n",
      "2011-12    3\n",
      "Freq: M, Name: count, dtype: int64\n",
      "month\n",
      "2010-01    3\n",
      "2010-02    3\n",
      "2010-03    3\n",
      "2010-04    3\n",
      "2010-05    3\n",
      "2010-06    3\n",
      "2010-07    3\n",
      "2010-08    3\n",
      "2010-09    3\n",
      "2010-10    3\n",
      "2010-11    3\n",
      "2010-12    3\n",
      "2011-01    3\n",
      "2011-02    3\n",
      "2011-03    3\n",
      "2011-04    3\n",
      "2011-05    3\n",
      "2011-06    3\n",
      "2011-07    3\n",
      "2011-08    3\n",
      "2011-09    3\n",
      "2011-10    3\n",
      "2011-11    3\n",
      "2011-12    3\n",
      "Freq: M, Name: count, dtype: int64\n"
     ]
    }
   ],
   "source": [
    "print(top_positive['month'].value_counts().sort_index())\n",
    "print(top_negative['month'].value_counts().sort_index())"
   ]
  },
  {
   "cell_type": "markdown",
   "id": "f44549db-1026-415a-9444-4bebad4ea9e0",
   "metadata": {},
   "source": [
    "### Storing the top 3 positive and negative employees for each month in a csv file format"
   ]
  },
  {
   "cell_type": "code",
   "execution_count": 48,
   "id": "7549e792-5c81-4feb-8473-54e2ffcd2279",
   "metadata": {},
   "outputs": [],
   "source": [
    "top_positive.to_csv(\"outputs/top_positive_employees.csv\",index=False)\n",
    "top_negative.to_csv(\"outputs/top_negative_employees.csv\",index=False)"
   ]
  },
  {
   "cell_type": "markdown",
   "id": "3172958d-670c-42c0-a456-99c81dbd6673",
   "metadata": {},
   "source": [
    "## Filght Risks"
   ]
  },
  {
   "cell_type": "code",
   "execution_count": 34,
   "id": "b25a8406-f905-433f-aa9a-f0a59457f704",
   "metadata": {},
   "outputs": [
    {
     "data": {
      "text/html": [
       "<div>\n",
       "<style scoped>\n",
       "    .dataframe tbody tr th:only-of-type {\n",
       "        vertical-align: middle;\n",
       "    }\n",
       "\n",
       "    .dataframe tbody tr th {\n",
       "        vertical-align: top;\n",
       "    }\n",
       "\n",
       "    .dataframe thead th {\n",
       "        text-align: right;\n",
       "    }\n",
       "</style>\n",
       "<table border=\"1\" class=\"dataframe\">\n",
       "  <thead>\n",
       "    <tr style=\"text-align: right;\">\n",
       "      <th></th>\n",
       "      <th>emp_id</th>\n",
       "      <th>Subject</th>\n",
       "      <th>body</th>\n",
       "      <th>date</th>\n",
       "      <th>from</th>\n",
       "      <th>sentiment</th>\n",
       "      <th>body_len</th>\n",
       "      <th>word_count</th>\n",
       "      <th>sentiment_score</th>\n",
       "      <th>month</th>\n",
       "    </tr>\n",
       "  </thead>\n",
       "  <tbody>\n",
       "    <tr>\n",
       "      <th>9</th>\n",
       "      <td>9</td>\n",
       "      <td>More Dallas ASE Information</td>\n",
       "      <td>The start time for Tuesday morning has been ch...</td>\n",
       "      <td>2010-02-06</td>\n",
       "      <td>kayne.coulter@enron.com</td>\n",
       "      <td>Negative</td>\n",
       "      <td>857</td>\n",
       "      <td>150</td>\n",
       "      <td>-1</td>\n",
       "      <td>2010-02</td>\n",
       "    </tr>\n",
       "    <tr>\n",
       "      <th>13</th>\n",
       "      <td>13</td>\n",
       "      <td>Re: trades</td>\n",
       "      <td>kiss my ass now bitch!\\n\\n\\n   \\n\\n\\nFrom:  Br...</td>\n",
       "      <td>2010-09-24</td>\n",
       "      <td>don.baughman@enron.com</td>\n",
       "      <td>Negative</td>\n",
       "      <td>167</td>\n",
       "      <td>11</td>\n",
       "      <td>-1</td>\n",
       "      <td>2010-09</td>\n",
       "    </tr>\n",
       "    <tr>\n",
       "      <th>17</th>\n",
       "      <td>17</td>\n",
       "      <td>RE: Southern Union Galveston/Pt. Arthur</td>\n",
       "      <td>She's probably fucking wrong!\\n</td>\n",
       "      <td>2010-07-07</td>\n",
       "      <td>sally.beck@enron.com</td>\n",
       "      <td>Negative</td>\n",
       "      <td>30</td>\n",
       "      <td>4</td>\n",
       "      <td>-1</td>\n",
       "      <td>2010-07</td>\n",
       "    </tr>\n",
       "    <tr>\n",
       "      <th>26</th>\n",
       "      <td>26</td>\n",
       "      <td>FW: Tahoe</td>\n",
       "      <td>I forgot to mention that if you do not buy the...</td>\n",
       "      <td>2010-11-06</td>\n",
       "      <td>don.baughman@enron.com</td>\n",
       "      <td>Negative</td>\n",
       "      <td>189</td>\n",
       "      <td>36</td>\n",
       "      <td>-1</td>\n",
       "      <td>2010-11</td>\n",
       "    </tr>\n",
       "    <tr>\n",
       "      <th>42</th>\n",
       "      <td>42</td>\n",
       "      <td>Re: GAME WEDNEDSDAY @ 7:00</td>\n",
       "      <td>now, now - you didn't look that great against ...</td>\n",
       "      <td>2011-08-15</td>\n",
       "      <td>sally.beck@enron.com</td>\n",
       "      <td>Negative</td>\n",
       "      <td>140</td>\n",
       "      <td>26</td>\n",
       "      <td>-1</td>\n",
       "      <td>2011-08</td>\n",
       "    </tr>\n",
       "    <tr>\n",
       "      <th>...</th>\n",
       "      <td>...</td>\n",
       "      <td>...</td>\n",
       "      <td>...</td>\n",
       "      <td>...</td>\n",
       "      <td>...</td>\n",
       "      <td>...</td>\n",
       "      <td>...</td>\n",
       "      <td>...</td>\n",
       "      <td>...</td>\n",
       "      <td>...</td>\n",
       "    </tr>\n",
       "    <tr>\n",
       "      <th>2132</th>\n",
       "      <td>2132</td>\n",
       "      <td>Re: FW: Truth in 13 words</td>\n",
       "      <td>Exactly!  Mom sent me the pictures from the ho...</td>\n",
       "      <td>2010-12-12</td>\n",
       "      <td>don.baughman@enron.com</td>\n",
       "      <td>Negative</td>\n",
       "      <td>268</td>\n",
       "      <td>41</td>\n",
       "      <td>-1</td>\n",
       "      <td>2010-12</td>\n",
       "    </tr>\n",
       "    <tr>\n",
       "      <th>2163</th>\n",
       "      <td>2163</td>\n",
       "      <td>Re:</td>\n",
       "      <td>Frank,\\n\\nThe implied risk created by the san ...</td>\n",
       "      <td>2010-07-15</td>\n",
       "      <td>bobette.riner@ipgdirect.com</td>\n",
       "      <td>Negative</td>\n",
       "      <td>396</td>\n",
       "      <td>72</td>\n",
       "      <td>-1</td>\n",
       "      <td>2010-07</td>\n",
       "    </tr>\n",
       "    <tr>\n",
       "      <th>2169</th>\n",
       "      <td>2169</td>\n",
       "      <td>League Dues</td>\n",
       "      <td>I have some good news and some bad news.  The ...</td>\n",
       "      <td>2010-06-18</td>\n",
       "      <td>john.arnold@enron.com</td>\n",
       "      <td>Negative</td>\n",
       "      <td>283</td>\n",
       "      <td>58</td>\n",
       "      <td>-1</td>\n",
       "      <td>2010-06</td>\n",
       "    </tr>\n",
       "    <tr>\n",
       "      <th>2182</th>\n",
       "      <td>2182</td>\n",
       "      <td>Re: The Next HEISMAN winner for the University...</td>\n",
       "      <td>he hates the farmers down at the pulse machine...</td>\n",
       "      <td>2010-04-26</td>\n",
       "      <td>lydia.delgado@enron.com</td>\n",
       "      <td>Negative</td>\n",
       "      <td>153</td>\n",
       "      <td>18</td>\n",
       "      <td>-1</td>\n",
       "      <td>2010-04</td>\n",
       "    </tr>\n",
       "    <tr>\n",
       "      <th>2183</th>\n",
       "      <td>2183</td>\n",
       "      <td>Re: Game @ 7:00</td>\n",
       "      <td>our football game is at 7 - sorry\\n\\n\\n\\n\\nBry...</td>\n",
       "      <td>2011-02-17</td>\n",
       "      <td>kayne.coulter@enron.com</td>\n",
       "      <td>Negative</td>\n",
       "      <td>69</td>\n",
       "      <td>13</td>\n",
       "      <td>-1</td>\n",
       "      <td>2011-02</td>\n",
       "    </tr>\n",
       "  </tbody>\n",
       "</table>\n",
       "<p>152 rows × 10 columns</p>\n",
       "</div>"
      ],
      "text/plain": [
       "      emp_id                                            Subject  \\\n",
       "9          9                        More Dallas ASE Information   \n",
       "13        13                                         Re: trades   \n",
       "17        17            RE: Southern Union Galveston/Pt. Arthur   \n",
       "26        26                                          FW: Tahoe   \n",
       "42        42                         Re: GAME WEDNEDSDAY @ 7:00   \n",
       "...      ...                                                ...   \n",
       "2132    2132                          Re: FW: Truth in 13 words   \n",
       "2163    2163                                                Re:   \n",
       "2169    2169                                        League Dues   \n",
       "2182    2182  Re: The Next HEISMAN winner for the University...   \n",
       "2183    2183                                    Re: Game @ 7:00   \n",
       "\n",
       "                                                   body       date  \\\n",
       "9     The start time for Tuesday morning has been ch... 2010-02-06   \n",
       "13    kiss my ass now bitch!\\n\\n\\n   \\n\\n\\nFrom:  Br... 2010-09-24   \n",
       "17                      She's probably fucking wrong!\\n 2010-07-07   \n",
       "26    I forgot to mention that if you do not buy the... 2010-11-06   \n",
       "42    now, now - you didn't look that great against ... 2011-08-15   \n",
       "...                                                 ...        ...   \n",
       "2132  Exactly!  Mom sent me the pictures from the ho... 2010-12-12   \n",
       "2163  Frank,\\n\\nThe implied risk created by the san ... 2010-07-15   \n",
       "2169  I have some good news and some bad news.  The ... 2010-06-18   \n",
       "2182  he hates the farmers down at the pulse machine... 2010-04-26   \n",
       "2183  our football game is at 7 - sorry\\n\\n\\n\\n\\nBry... 2011-02-17   \n",
       "\n",
       "                             from sentiment  body_len  word_count  \\\n",
       "9         kayne.coulter@enron.com  Negative       857         150   \n",
       "13         don.baughman@enron.com  Negative       167          11   \n",
       "17           sally.beck@enron.com  Negative        30           4   \n",
       "26         don.baughman@enron.com  Negative       189          36   \n",
       "42           sally.beck@enron.com  Negative       140          26   \n",
       "...                           ...       ...       ...         ...   \n",
       "2132       don.baughman@enron.com  Negative       268          41   \n",
       "2163  bobette.riner@ipgdirect.com  Negative       396          72   \n",
       "2169        john.arnold@enron.com  Negative       283          58   \n",
       "2182      lydia.delgado@enron.com  Negative       153          18   \n",
       "2183      kayne.coulter@enron.com  Negative        69          13   \n",
       "\n",
       "      sentiment_score    month  \n",
       "9                  -1  2010-02  \n",
       "13                 -1  2010-09  \n",
       "17                 -1  2010-07  \n",
       "26                 -1  2010-11  \n",
       "42                 -1  2011-08  \n",
       "...               ...      ...  \n",
       "2132               -1  2010-12  \n",
       "2163               -1  2010-07  \n",
       "2169               -1  2010-06  \n",
       "2182               -1  2010-04  \n",
       "2183               -1  2011-02  \n",
       "\n",
       "[152 rows x 10 columns]"
      ]
     },
     "execution_count": 34,
     "metadata": {},
     "output_type": "execute_result"
    }
   ],
   "source": [
    "neg_df = df[df[\"sentiment\"] == \"Negative\"].copy()\n",
    "neg_df = neg_df.sort_values(ascending = True, by=[\"emp_id\",\"date\"])\n",
    "neg_df"
   ]
  },
  {
   "cell_type": "markdown",
   "id": "06e0af9b-713e-4e4b-b27c-9875f64a5035",
   "metadata": {},
   "source": [
    "### Counting how many negative messages each employee sent within any 30-day span"
   ]
  },
  {
   "cell_type": "code",
   "execution_count": 36,
   "id": "082251bc-5d54-4308-87ab-251581cf5e58",
   "metadata": {},
   "outputs": [],
   "source": [
    "flight_risk_list = []\n",
    "\n",
    "for emp, group in neg_df.groupby(\"emp_id\"):\n",
    "    group = group.sort_values(\"date\")\n",
    "    for i in range(len(group)):\n",
    "        start_date = group.iloc[i][\"date\"] - pd.Timedelta(days=30)\n",
    "        window_count = group[(group[\"date\"] >= start_date) & (group[\"date\"] <= group.iloc[i][\"date\"])].shape[0]\n",
    "        if window_count >= 4:\n",
    "            flight_risk_list.append(emp)\n",
    "            break  \n"
   ]
  },
  {
   "cell_type": "code",
   "execution_count": 37,
   "id": "7108d673-cc97-4e2f-b8ab-f94ec90f4696",
   "metadata": {},
   "outputs": [
    {
     "name": "stdout",
     "output_type": "stream",
     "text": [
      "Employees identified as flight risks:\n",
      "\n",
      "Empty DataFrame\n",
      "Columns: [emp_id]\n",
      "Index: []\n"
     ]
    }
   ],
   "source": [
    "flight_risk_employees = pd.DataFrame({\"emp_id\": sorted(set(flight_risk_list))})\n",
    "print(\"Employees identified as flight risks:\\n\")\n",
    "print(flight_risk_employees)"
   ]
  },
  {
   "cell_type": "markdown",
   "id": "650a423a-3e71-48e8-8aa5-b5421415a457",
   "metadata": {},
   "source": [
    "### Conclusion: \n",
    "1. Upon analyzing the dataset, it was observed that each employee ID appears only once, meaning each employee has sent at most one message.\n",
    "2. Since a flight risk requires four or more negative messages within a 30-day period, no employee met this condition.\n",
    "3. Therefore, no employees were identified as flight risks for this dataset."
   ]
  },
  {
   "cell_type": "markdown",
   "id": "c8c47417-eeb0-466a-8961-b11bf54877e6",
   "metadata": {},
   "source": [
    "### Creating aggregated dataset"
   ]
  },
  {
   "cell_type": "code",
   "execution_count": 38,
   "id": "2eacf6b1-955a-499e-8d43-fc27ea044f53",
   "metadata": {},
   "outputs": [],
   "source": [
    "model_df = (\n",
    "    df.groupby([\"emp_id\", df[\"date\"].dt.to_period(\"M\")])\n",
    "    .agg(\n",
    "        msg_count=(\"body\", \"count\"),\n",
    "        avg_word_count=(\"body\", lambda x: x.str.split().apply(len).mean()),\n",
    "        avg_msg_length=(\"body\", lambda x: x.str.len().mean()),\n",
    "        sentiment_score=(\"sentiment_score\", \"sum\")\n",
    "    )\n",
    "    .reset_index()\n",
    ")\n"
   ]
  },
  {
   "cell_type": "code",
   "execution_count": 39,
   "id": "b570e48f-4a69-4c0c-a1d6-fdeb3197b721",
   "metadata": {},
   "outputs": [
    {
     "data": {
      "text/html": [
       "<div>\n",
       "<style scoped>\n",
       "    .dataframe tbody tr th:only-of-type {\n",
       "        vertical-align: middle;\n",
       "    }\n",
       "\n",
       "    .dataframe tbody tr th {\n",
       "        vertical-align: top;\n",
       "    }\n",
       "\n",
       "    .dataframe thead th {\n",
       "        text-align: right;\n",
       "    }\n",
       "</style>\n",
       "<table border=\"1\" class=\"dataframe\">\n",
       "  <thead>\n",
       "    <tr style=\"text-align: right;\">\n",
       "      <th></th>\n",
       "      <th>emp_id</th>\n",
       "      <th>date</th>\n",
       "      <th>msg_count</th>\n",
       "      <th>avg_word_count</th>\n",
       "      <th>avg_msg_length</th>\n",
       "      <th>sentiment_score</th>\n",
       "    </tr>\n",
       "  </thead>\n",
       "  <tbody>\n",
       "    <tr>\n",
       "      <th>0</th>\n",
       "      <td>0</td>\n",
       "      <td>2010-05</td>\n",
       "      <td>1</td>\n",
       "      <td>101.0</td>\n",
       "      <td>692.0</td>\n",
       "      <td>1</td>\n",
       "    </tr>\n",
       "    <tr>\n",
       "      <th>1</th>\n",
       "      <td>1</td>\n",
       "      <td>2010-07</td>\n",
       "      <td>1</td>\n",
       "      <td>57.0</td>\n",
       "      <td>315.0</td>\n",
       "      <td>1</td>\n",
       "    </tr>\n",
       "    <tr>\n",
       "      <th>2</th>\n",
       "      <td>2</td>\n",
       "      <td>2011-07</td>\n",
       "      <td>1</td>\n",
       "      <td>21.0</td>\n",
       "      <td>150.0</td>\n",
       "      <td>0</td>\n",
       "    </tr>\n",
       "    <tr>\n",
       "      <th>3</th>\n",
       "      <td>3</td>\n",
       "      <td>2010-03</td>\n",
       "      <td>1</td>\n",
       "      <td>24.0</td>\n",
       "      <td>155.0</td>\n",
       "      <td>0</td>\n",
       "    </tr>\n",
       "    <tr>\n",
       "      <th>4</th>\n",
       "      <td>4</td>\n",
       "      <td>2011-05</td>\n",
       "      <td>1</td>\n",
       "      <td>42.0</td>\n",
       "      <td>197.0</td>\n",
       "      <td>1</td>\n",
       "    </tr>\n",
       "  </tbody>\n",
       "</table>\n",
       "</div>"
      ],
      "text/plain": [
       "   emp_id     date  msg_count  avg_word_count  avg_msg_length  sentiment_score\n",
       "0       0  2010-05          1           101.0           692.0                1\n",
       "1       1  2010-07          1            57.0           315.0                1\n",
       "2       2  2011-07          1            21.0           150.0                0\n",
       "3       3  2010-03          1            24.0           155.0                0\n",
       "4       4  2011-05          1            42.0           197.0                1"
      ]
     },
     "execution_count": 39,
     "metadata": {},
     "output_type": "execute_result"
    }
   ],
   "source": [
    "model_df.head()"
   ]
  },
  {
   "cell_type": "markdown",
   "id": "171374dc-de29-4481-ba22-1ab4773da65a",
   "metadata": {},
   "source": [
    "### Split the aggregated dataset based on independent variables(features) and dependent variables(target)"
   ]
  },
  {
   "cell_type": "code",
   "execution_count": 40,
   "id": "42fa52ed-ffc0-4786-8032-071455fb16f2",
   "metadata": {},
   "outputs": [],
   "source": [
    "X = model_df[[\"msg_count\",\"avg_word_count\",\"avg_msg_length\"]]\n",
    "y = model_df[\"sentiment_score\"]"
   ]
  },
  {
   "cell_type": "markdown",
   "id": "e7cd85c6-6ebb-4999-9f3c-4b18a507047a",
   "metadata": {},
   "source": [
    "### Spliting X and y into train data and test data\n",
    "1. Importing train_test_split to divide X and y into given proportion for train data and test data.\n",
    "2. Importing LinearRegression model from sklearn.linear_model."
   ]
  },
  {
   "cell_type": "code",
   "execution_count": 41,
   "id": "65c189a5-097c-4ea4-ba84-0131d72d5962",
   "metadata": {},
   "outputs": [],
   "source": [
    "from sklearn.model_selection import train_test_split \n",
    "from sklearn.linear_model import LinearRegression\n",
    "\n",
    "X_train,X_test,y_train,y_test = train_test_split(X,y,test_size=0.2,random_state=42)"
   ]
  },
  {
   "cell_type": "markdown",
   "id": "af2289d8-8aa8-41e2-acd9-0e1603c7f60d",
   "metadata": {},
   "source": [
    "### Train linear regression model with train data "
   ]
  },
  {
   "cell_type": "code",
   "execution_count": 42,
   "id": "9de3ecec-685a-4fcf-9b07-3bce33d6873f",
   "metadata": {},
   "outputs": [
    {
     "data": {
      "text/html": [
       "<style>#sk-container-id-1 {\n",
       "  /* Definition of color scheme common for light and dark mode */\n",
       "  --sklearn-color-text: black;\n",
       "  --sklearn-color-line: gray;\n",
       "  /* Definition of color scheme for unfitted estimators */\n",
       "  --sklearn-color-unfitted-level-0: #fff5e6;\n",
       "  --sklearn-color-unfitted-level-1: #f6e4d2;\n",
       "  --sklearn-color-unfitted-level-2: #ffe0b3;\n",
       "  --sklearn-color-unfitted-level-3: chocolate;\n",
       "  /* Definition of color scheme for fitted estimators */\n",
       "  --sklearn-color-fitted-level-0: #f0f8ff;\n",
       "  --sklearn-color-fitted-level-1: #d4ebff;\n",
       "  --sklearn-color-fitted-level-2: #b3dbfd;\n",
       "  --sklearn-color-fitted-level-3: cornflowerblue;\n",
       "\n",
       "  /* Specific color for light theme */\n",
       "  --sklearn-color-text-on-default-background: var(--sg-text-color, var(--theme-code-foreground, var(--jp-content-font-color1, black)));\n",
       "  --sklearn-color-background: var(--sg-background-color, var(--theme-background, var(--jp-layout-color0, white)));\n",
       "  --sklearn-color-border-box: var(--sg-text-color, var(--theme-code-foreground, var(--jp-content-font-color1, black)));\n",
       "  --sklearn-color-icon: #696969;\n",
       "\n",
       "  @media (prefers-color-scheme: dark) {\n",
       "    /* Redefinition of color scheme for dark theme */\n",
       "    --sklearn-color-text-on-default-background: var(--sg-text-color, var(--theme-code-foreground, var(--jp-content-font-color1, white)));\n",
       "    --sklearn-color-background: var(--sg-background-color, var(--theme-background, var(--jp-layout-color0, #111)));\n",
       "    --sklearn-color-border-box: var(--sg-text-color, var(--theme-code-foreground, var(--jp-content-font-color1, white)));\n",
       "    --sklearn-color-icon: #878787;\n",
       "  }\n",
       "}\n",
       "\n",
       "#sk-container-id-1 {\n",
       "  color: var(--sklearn-color-text);\n",
       "}\n",
       "\n",
       "#sk-container-id-1 pre {\n",
       "  padding: 0;\n",
       "}\n",
       "\n",
       "#sk-container-id-1 input.sk-hidden--visually {\n",
       "  border: 0;\n",
       "  clip: rect(1px 1px 1px 1px);\n",
       "  clip: rect(1px, 1px, 1px, 1px);\n",
       "  height: 1px;\n",
       "  margin: -1px;\n",
       "  overflow: hidden;\n",
       "  padding: 0;\n",
       "  position: absolute;\n",
       "  width: 1px;\n",
       "}\n",
       "\n",
       "#sk-container-id-1 div.sk-dashed-wrapped {\n",
       "  border: 1px dashed var(--sklearn-color-line);\n",
       "  margin: 0 0.4em 0.5em 0.4em;\n",
       "  box-sizing: border-box;\n",
       "  padding-bottom: 0.4em;\n",
       "  background-color: var(--sklearn-color-background);\n",
       "}\n",
       "\n",
       "#sk-container-id-1 div.sk-container {\n",
       "  /* jupyter's `normalize.less` sets `[hidden] { display: none; }`\n",
       "     but bootstrap.min.css set `[hidden] { display: none !important; }`\n",
       "     so we also need the `!important` here to be able to override the\n",
       "     default hidden behavior on the sphinx rendered scikit-learn.org.\n",
       "     See: https://github.com/scikit-learn/scikit-learn/issues/21755 */\n",
       "  display: inline-block !important;\n",
       "  position: relative;\n",
       "}\n",
       "\n",
       "#sk-container-id-1 div.sk-text-repr-fallback {\n",
       "  display: none;\n",
       "}\n",
       "\n",
       "div.sk-parallel-item,\n",
       "div.sk-serial,\n",
       "div.sk-item {\n",
       "  /* draw centered vertical line to link estimators */\n",
       "  background-image: linear-gradient(var(--sklearn-color-text-on-default-background), var(--sklearn-color-text-on-default-background));\n",
       "  background-size: 2px 100%;\n",
       "  background-repeat: no-repeat;\n",
       "  background-position: center center;\n",
       "}\n",
       "\n",
       "/* Parallel-specific style estimator block */\n",
       "\n",
       "#sk-container-id-1 div.sk-parallel-item::after {\n",
       "  content: \"\";\n",
       "  width: 100%;\n",
       "  border-bottom: 2px solid var(--sklearn-color-text-on-default-background);\n",
       "  flex-grow: 1;\n",
       "}\n",
       "\n",
       "#sk-container-id-1 div.sk-parallel {\n",
       "  display: flex;\n",
       "  align-items: stretch;\n",
       "  justify-content: center;\n",
       "  background-color: var(--sklearn-color-background);\n",
       "  position: relative;\n",
       "}\n",
       "\n",
       "#sk-container-id-1 div.sk-parallel-item {\n",
       "  display: flex;\n",
       "  flex-direction: column;\n",
       "}\n",
       "\n",
       "#sk-container-id-1 div.sk-parallel-item:first-child::after {\n",
       "  align-self: flex-end;\n",
       "  width: 50%;\n",
       "}\n",
       "\n",
       "#sk-container-id-1 div.sk-parallel-item:last-child::after {\n",
       "  align-self: flex-start;\n",
       "  width: 50%;\n",
       "}\n",
       "\n",
       "#sk-container-id-1 div.sk-parallel-item:only-child::after {\n",
       "  width: 0;\n",
       "}\n",
       "\n",
       "/* Serial-specific style estimator block */\n",
       "\n",
       "#sk-container-id-1 div.sk-serial {\n",
       "  display: flex;\n",
       "  flex-direction: column;\n",
       "  align-items: center;\n",
       "  background-color: var(--sklearn-color-background);\n",
       "  padding-right: 1em;\n",
       "  padding-left: 1em;\n",
       "}\n",
       "\n",
       "\n",
       "/* Toggleable style: style used for estimator/Pipeline/ColumnTransformer box that is\n",
       "clickable and can be expanded/collapsed.\n",
       "- Pipeline and ColumnTransformer use this feature and define the default style\n",
       "- Estimators will overwrite some part of the style using the `sk-estimator` class\n",
       "*/\n",
       "\n",
       "/* Pipeline and ColumnTransformer style (default) */\n",
       "\n",
       "#sk-container-id-1 div.sk-toggleable {\n",
       "  /* Default theme specific background. It is overwritten whether we have a\n",
       "  specific estimator or a Pipeline/ColumnTransformer */\n",
       "  background-color: var(--sklearn-color-background);\n",
       "}\n",
       "\n",
       "/* Toggleable label */\n",
       "#sk-container-id-1 label.sk-toggleable__label {\n",
       "  cursor: pointer;\n",
       "  display: block;\n",
       "  width: 100%;\n",
       "  margin-bottom: 0;\n",
       "  padding: 0.5em;\n",
       "  box-sizing: border-box;\n",
       "  text-align: center;\n",
       "}\n",
       "\n",
       "#sk-container-id-1 label.sk-toggleable__label-arrow:before {\n",
       "  /* Arrow on the left of the label */\n",
       "  content: \"▸\";\n",
       "  float: left;\n",
       "  margin-right: 0.25em;\n",
       "  color: var(--sklearn-color-icon);\n",
       "}\n",
       "\n",
       "#sk-container-id-1 label.sk-toggleable__label-arrow:hover:before {\n",
       "  color: var(--sklearn-color-text);\n",
       "}\n",
       "\n",
       "/* Toggleable content - dropdown */\n",
       "\n",
       "#sk-container-id-1 div.sk-toggleable__content {\n",
       "  max-height: 0;\n",
       "  max-width: 0;\n",
       "  overflow: hidden;\n",
       "  text-align: left;\n",
       "  /* unfitted */\n",
       "  background-color: var(--sklearn-color-unfitted-level-0);\n",
       "}\n",
       "\n",
       "#sk-container-id-1 div.sk-toggleable__content.fitted {\n",
       "  /* fitted */\n",
       "  background-color: var(--sklearn-color-fitted-level-0);\n",
       "}\n",
       "\n",
       "#sk-container-id-1 div.sk-toggleable__content pre {\n",
       "  margin: 0.2em;\n",
       "  border-radius: 0.25em;\n",
       "  color: var(--sklearn-color-text);\n",
       "  /* unfitted */\n",
       "  background-color: var(--sklearn-color-unfitted-level-0);\n",
       "}\n",
       "\n",
       "#sk-container-id-1 div.sk-toggleable__content.fitted pre {\n",
       "  /* unfitted */\n",
       "  background-color: var(--sklearn-color-fitted-level-0);\n",
       "}\n",
       "\n",
       "#sk-container-id-1 input.sk-toggleable__control:checked~div.sk-toggleable__content {\n",
       "  /* Expand drop-down */\n",
       "  max-height: 200px;\n",
       "  max-width: 100%;\n",
       "  overflow: auto;\n",
       "}\n",
       "\n",
       "#sk-container-id-1 input.sk-toggleable__control:checked~label.sk-toggleable__label-arrow:before {\n",
       "  content: \"▾\";\n",
       "}\n",
       "\n",
       "/* Pipeline/ColumnTransformer-specific style */\n",
       "\n",
       "#sk-container-id-1 div.sk-label input.sk-toggleable__control:checked~label.sk-toggleable__label {\n",
       "  color: var(--sklearn-color-text);\n",
       "  background-color: var(--sklearn-color-unfitted-level-2);\n",
       "}\n",
       "\n",
       "#sk-container-id-1 div.sk-label.fitted input.sk-toggleable__control:checked~label.sk-toggleable__label {\n",
       "  background-color: var(--sklearn-color-fitted-level-2);\n",
       "}\n",
       "\n",
       "/* Estimator-specific style */\n",
       "\n",
       "/* Colorize estimator box */\n",
       "#sk-container-id-1 div.sk-estimator input.sk-toggleable__control:checked~label.sk-toggleable__label {\n",
       "  /* unfitted */\n",
       "  background-color: var(--sklearn-color-unfitted-level-2);\n",
       "}\n",
       "\n",
       "#sk-container-id-1 div.sk-estimator.fitted input.sk-toggleable__control:checked~label.sk-toggleable__label {\n",
       "  /* fitted */\n",
       "  background-color: var(--sklearn-color-fitted-level-2);\n",
       "}\n",
       "\n",
       "#sk-container-id-1 div.sk-label label.sk-toggleable__label,\n",
       "#sk-container-id-1 div.sk-label label {\n",
       "  /* The background is the default theme color */\n",
       "  color: var(--sklearn-color-text-on-default-background);\n",
       "}\n",
       "\n",
       "/* On hover, darken the color of the background */\n",
       "#sk-container-id-1 div.sk-label:hover label.sk-toggleable__label {\n",
       "  color: var(--sklearn-color-text);\n",
       "  background-color: var(--sklearn-color-unfitted-level-2);\n",
       "}\n",
       "\n",
       "/* Label box, darken color on hover, fitted */\n",
       "#sk-container-id-1 div.sk-label.fitted:hover label.sk-toggleable__label.fitted {\n",
       "  color: var(--sklearn-color-text);\n",
       "  background-color: var(--sklearn-color-fitted-level-2);\n",
       "}\n",
       "\n",
       "/* Estimator label */\n",
       "\n",
       "#sk-container-id-1 div.sk-label label {\n",
       "  font-family: monospace;\n",
       "  font-weight: bold;\n",
       "  display: inline-block;\n",
       "  line-height: 1.2em;\n",
       "}\n",
       "\n",
       "#sk-container-id-1 div.sk-label-container {\n",
       "  text-align: center;\n",
       "}\n",
       "\n",
       "/* Estimator-specific */\n",
       "#sk-container-id-1 div.sk-estimator {\n",
       "  font-family: monospace;\n",
       "  border: 1px dotted var(--sklearn-color-border-box);\n",
       "  border-radius: 0.25em;\n",
       "  box-sizing: border-box;\n",
       "  margin-bottom: 0.5em;\n",
       "  /* unfitted */\n",
       "  background-color: var(--sklearn-color-unfitted-level-0);\n",
       "}\n",
       "\n",
       "#sk-container-id-1 div.sk-estimator.fitted {\n",
       "  /* fitted */\n",
       "  background-color: var(--sklearn-color-fitted-level-0);\n",
       "}\n",
       "\n",
       "/* on hover */\n",
       "#sk-container-id-1 div.sk-estimator:hover {\n",
       "  /* unfitted */\n",
       "  background-color: var(--sklearn-color-unfitted-level-2);\n",
       "}\n",
       "\n",
       "#sk-container-id-1 div.sk-estimator.fitted:hover {\n",
       "  /* fitted */\n",
       "  background-color: var(--sklearn-color-fitted-level-2);\n",
       "}\n",
       "\n",
       "/* Specification for estimator info (e.g. \"i\" and \"?\") */\n",
       "\n",
       "/* Common style for \"i\" and \"?\" */\n",
       "\n",
       ".sk-estimator-doc-link,\n",
       "a:link.sk-estimator-doc-link,\n",
       "a:visited.sk-estimator-doc-link {\n",
       "  float: right;\n",
       "  font-size: smaller;\n",
       "  line-height: 1em;\n",
       "  font-family: monospace;\n",
       "  background-color: var(--sklearn-color-background);\n",
       "  border-radius: 1em;\n",
       "  height: 1em;\n",
       "  width: 1em;\n",
       "  text-decoration: none !important;\n",
       "  margin-left: 1ex;\n",
       "  /* unfitted */\n",
       "  border: var(--sklearn-color-unfitted-level-1) 1pt solid;\n",
       "  color: var(--sklearn-color-unfitted-level-1);\n",
       "}\n",
       "\n",
       ".sk-estimator-doc-link.fitted,\n",
       "a:link.sk-estimator-doc-link.fitted,\n",
       "a:visited.sk-estimator-doc-link.fitted {\n",
       "  /* fitted */\n",
       "  border: var(--sklearn-color-fitted-level-1) 1pt solid;\n",
       "  color: var(--sklearn-color-fitted-level-1);\n",
       "}\n",
       "\n",
       "/* On hover */\n",
       "div.sk-estimator:hover .sk-estimator-doc-link:hover,\n",
       ".sk-estimator-doc-link:hover,\n",
       "div.sk-label-container:hover .sk-estimator-doc-link:hover,\n",
       ".sk-estimator-doc-link:hover {\n",
       "  /* unfitted */\n",
       "  background-color: var(--sklearn-color-unfitted-level-3);\n",
       "  color: var(--sklearn-color-background);\n",
       "  text-decoration: none;\n",
       "}\n",
       "\n",
       "div.sk-estimator.fitted:hover .sk-estimator-doc-link.fitted:hover,\n",
       ".sk-estimator-doc-link.fitted:hover,\n",
       "div.sk-label-container:hover .sk-estimator-doc-link.fitted:hover,\n",
       ".sk-estimator-doc-link.fitted:hover {\n",
       "  /* fitted */\n",
       "  background-color: var(--sklearn-color-fitted-level-3);\n",
       "  color: var(--sklearn-color-background);\n",
       "  text-decoration: none;\n",
       "}\n",
       "\n",
       "/* Span, style for the box shown on hovering the info icon */\n",
       ".sk-estimator-doc-link span {\n",
       "  display: none;\n",
       "  z-index: 9999;\n",
       "  position: relative;\n",
       "  font-weight: normal;\n",
       "  right: .2ex;\n",
       "  padding: .5ex;\n",
       "  margin: .5ex;\n",
       "  width: min-content;\n",
       "  min-width: 20ex;\n",
       "  max-width: 50ex;\n",
       "  color: var(--sklearn-color-text);\n",
       "  box-shadow: 2pt 2pt 4pt #999;\n",
       "  /* unfitted */\n",
       "  background: var(--sklearn-color-unfitted-level-0);\n",
       "  border: .5pt solid var(--sklearn-color-unfitted-level-3);\n",
       "}\n",
       "\n",
       ".sk-estimator-doc-link.fitted span {\n",
       "  /* fitted */\n",
       "  background: var(--sklearn-color-fitted-level-0);\n",
       "  border: var(--sklearn-color-fitted-level-3);\n",
       "}\n",
       "\n",
       ".sk-estimator-doc-link:hover span {\n",
       "  display: block;\n",
       "}\n",
       "\n",
       "/* \"?\"-specific style due to the `<a>` HTML tag */\n",
       "\n",
       "#sk-container-id-1 a.estimator_doc_link {\n",
       "  float: right;\n",
       "  font-size: 1rem;\n",
       "  line-height: 1em;\n",
       "  font-family: monospace;\n",
       "  background-color: var(--sklearn-color-background);\n",
       "  border-radius: 1rem;\n",
       "  height: 1rem;\n",
       "  width: 1rem;\n",
       "  text-decoration: none;\n",
       "  /* unfitted */\n",
       "  color: var(--sklearn-color-unfitted-level-1);\n",
       "  border: var(--sklearn-color-unfitted-level-1) 1pt solid;\n",
       "}\n",
       "\n",
       "#sk-container-id-1 a.estimator_doc_link.fitted {\n",
       "  /* fitted */\n",
       "  border: var(--sklearn-color-fitted-level-1) 1pt solid;\n",
       "  color: var(--sklearn-color-fitted-level-1);\n",
       "}\n",
       "\n",
       "/* On hover */\n",
       "#sk-container-id-1 a.estimator_doc_link:hover {\n",
       "  /* unfitted */\n",
       "  background-color: var(--sklearn-color-unfitted-level-3);\n",
       "  color: var(--sklearn-color-background);\n",
       "  text-decoration: none;\n",
       "}\n",
       "\n",
       "#sk-container-id-1 a.estimator_doc_link.fitted:hover {\n",
       "  /* fitted */\n",
       "  background-color: var(--sklearn-color-fitted-level-3);\n",
       "}\n",
       "</style><div id=\"sk-container-id-1\" class=\"sk-top-container\"><div class=\"sk-text-repr-fallback\"><pre>LinearRegression()</pre><b>In a Jupyter environment, please rerun this cell to show the HTML representation or trust the notebook. <br />On GitHub, the HTML representation is unable to render, please try loading this page with nbviewer.org.</b></div><div class=\"sk-container\" hidden><div class=\"sk-item\"><div class=\"sk-estimator fitted sk-toggleable\"><input class=\"sk-toggleable__control sk-hidden--visually\" id=\"sk-estimator-id-1\" type=\"checkbox\" checked><label for=\"sk-estimator-id-1\" class=\"sk-toggleable__label fitted sk-toggleable__label-arrow fitted\">&nbsp;&nbsp;LinearRegression<a class=\"sk-estimator-doc-link fitted\" rel=\"noreferrer\" target=\"_blank\" href=\"https://scikit-learn.org/1.5/modules/generated/sklearn.linear_model.LinearRegression.html\">?<span>Documentation for LinearRegression</span></a><span class=\"sk-estimator-doc-link fitted\">i<span>Fitted</span></span></label><div class=\"sk-toggleable__content fitted\"><pre>LinearRegression()</pre></div> </div></div></div></div>"
      ],
      "text/plain": [
       "LinearRegression()"
      ]
     },
     "execution_count": 42,
     "metadata": {},
     "output_type": "execute_result"
    }
   ],
   "source": [
    "model = LinearRegression()\n",
    "model.fit(X_train,y_train)"
   ]
  },
  {
   "cell_type": "markdown",
   "id": "a009a738-2d20-4ec9-8878-f549228cf511",
   "metadata": {},
   "source": [
    "### Evaluating model performance"
   ]
  },
  {
   "cell_type": "code",
   "execution_count": 43,
   "id": "3de943cd-1c34-443c-a9a8-6dc08cd9a86b",
   "metadata": {},
   "outputs": [
    {
     "name": "stdout",
     "output_type": "stream",
     "text": [
      "Model Evaluation Metrics:\n",
      "Mean Squared Error : 0.42\n",
      "R2 Score : 0.04\n"
     ]
    }
   ],
   "source": [
    "from sklearn.metrics import mean_squared_error,r2_score\n",
    "\n",
    "y_pred = model.predict(X_test)\n",
    "\n",
    "mse = mean_squared_error(y_test,y_pred)\n",
    "r2 = r2_score(y_test,y_pred)\n",
    "\n",
    "print(\"Model Evaluation Metrics:\")\n",
    "print(f\"Mean Squared Error : {mse:.2f}\")\n",
    "print(f\"R2 Score : {r2:.2f}\")"
   ]
  },
  {
   "cell_type": "markdown",
   "id": "be186cfa-ee3c-4707-b597-53840133d603",
   "metadata": {},
   "source": [
    "1. R2 Score tells how well the model explains the sentiment variation.\n",
    "2. Mean Squared Error tells how far predictions are far from actual values."
   ]
  },
  {
   "cell_type": "markdown",
   "id": "58947952-4f5e-4661-bbd7-1b6cd3ef8ea5",
   "metadata": {},
   "source": [
    "### Visual representation of model performance metrics"
   ]
  },
  {
   "cell_type": "code",
   "execution_count": 44,
   "id": "cc104f73-78d3-4a8d-99e9-e33a6edf780a",
   "metadata": {},
   "outputs": [
    {
     "data": {
      "image/png": "[encoded data removed]",
      "text/plain": [
       "<Figure size 640x480 with 1 Axes>"
      ]
     },
     "metadata": {},
     "output_type": "display_data"
    }
   ],
   "source": [
    "plt.scatter(y_test, y_pred)\n",
    "plt.xlabel(\"Actual Sentiment Score\")\n",
    "plt.ylabel(\"Predicted Sentiment Score\")\n",
    "plt.title(\"Actual vs Predicted Sentiment Scores\")\n",
    "plt.show()\n"
   ]
  },
  {
   "cell_type": "code",
   "execution_count": 45,
   "id": "0f63b341-8d10-415c-93a7-c4b482507497",
   "metadata": {},
   "outputs": [
    {
     "data": {
      "text/plain": [
       "(array([ 0.        ,  0.00574753, -0.0003278 ]), 0.4902390187310419)"
      ]
     },
     "execution_count": 45,
     "metadata": {},
     "output_type": "execute_result"
    }
   ],
   "source": [
    "model.coef_,model.intercept_"
   ]
  },
  {
   "cell_type": "code",
   "execution_count": 46,
   "id": "27c2e8ed-0ef1-438b-be21-949fb447049c",
   "metadata": {},
   "outputs": [
    {
     "data": {
      "text/html": [
       "<div>\n",
       "<style scoped>\n",
       "    .dataframe tbody tr th:only-of-type {\n",
       "        vertical-align: middle;\n",
       "    }\n",
       "\n",
       "    .dataframe tbody tr th {\n",
       "        vertical-align: top;\n",
       "    }\n",
       "\n",
       "    .dataframe thead th {\n",
       "        text-align: right;\n",
       "    }\n",
       "</style>\n",
       "<table border=\"1\" class=\"dataframe\">\n",
       "  <thead>\n",
       "    <tr style=\"text-align: right;\">\n",
       "      <th></th>\n",
       "      <th>Feature</th>\n",
       "      <th>Coefficients</th>\n",
       "    </tr>\n",
       "  </thead>\n",
       "  <tbody>\n",
       "    <tr>\n",
       "      <th>0</th>\n",
       "      <td>msg_count</td>\n",
       "      <td>0.000</td>\n",
       "    </tr>\n",
       "    <tr>\n",
       "      <th>1</th>\n",
       "      <td>avg_word_count</td>\n",
       "      <td>0.006</td>\n",
       "    </tr>\n",
       "    <tr>\n",
       "      <th>2</th>\n",
       "      <td>avg_msg_length</td>\n",
       "      <td>-0.000</td>\n",
       "    </tr>\n",
       "  </tbody>\n",
       "</table>\n",
       "</div>"
      ],
      "text/plain": [
       "          Feature  Coefficients\n",
       "0       msg_count         0.000\n",
       "1  avg_word_count         0.006\n",
       "2  avg_msg_length        -0.000"
      ]
     },
     "execution_count": 46,
     "metadata": {},
     "output_type": "execute_result"
    }
   ],
   "source": [
    "feature_coeff = pd.DataFrame({\n",
    "    \"Feature\" : X.columns,\n",
    "    \"Coefficients\" : model.coef_.round(3)\n",
    "})\n",
    "feature_coeff"
   ]
  },
  {
   "cell_type": "markdown",
   "id": "25cf4c39-44be-40b9-8942-0461dde895ba",
   "metadata": {},
   "source": [
    "### Conclusion\n",
    "1. msg_count = 0.000, that means msg_count have no meaningful impact on sentiment scores.\n",
    "2. avg_word_count = 0.006, a small positive relationship => employees whose messages contain more words tend to have slightly higher sentiment scores.\n",
    "3. avg_msg_length = -0.000, which means avg_msg_length have practically no effect on sentiment scores."
   ]
  },
  {
   "cell_type": "markdown",
   "id": "14ca18d0-3511-4ac5-b401-9fa73c6497ee",
   "metadata": {},
   "source": [
    "#### Storing model coefficients in a CSV format"
   ]
  },
  {
   "cell_type": "code",
   "execution_count": 47,
   "id": "37b3e4c5-eee9-43fc-a21f-53fb205b82fe",
   "metadata": {},
   "outputs": [],
   "source": [
    "feature_coeff.to_csv(\"outputs/model_coefficients.csv\", index=False)"
   ]
  }
 ],
 "metadata": {
  "kernelspec": {
   "display_name": "Python 3 (ipykernel)",
   "language": "python",
   "name": "python3"
  },
  "language_info": {
   "codemirror_mode": {
    "name": "ipython",
    "version": 3
   },
   "file_extension": ".py",
   "mimetype": "text/x-python",
   "name": "python",
   "nbconvert_exporter": "python",
   "pygments_lexer": "ipython3",
   "version": "3.12.7"
  }
 },
 "nbformat": 4,
 "nbformat_minor": 5
}
